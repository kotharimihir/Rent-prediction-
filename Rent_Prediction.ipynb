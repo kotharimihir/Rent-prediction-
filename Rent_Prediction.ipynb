{
  "nbformat": 4,
  "nbformat_minor": 0,
  "metadata": {
    "colab": {
      "name": "Rent Prediction ",
      "provenance": []
    },
    "kernelspec": {
      "name": "python3",
      "display_name": "Python 3"
    },
    "language_info": {
      "name": "python"
    }
  },
  "cells": [
    {
      "cell_type": "code",
      "metadata": {
        "id": "gGogx8_9P8ne"
      },
      "source": [
        "import numpy as np\n",
        "import pandas as pd"
      ],
      "execution_count": 1,
      "outputs": []
    },
    {
      "cell_type": "code",
      "metadata": {
        "colab": {
          "base_uri": "https://localhost:8080/"
        },
        "id": "RclSFdeCRJYr",
        "outputId": "1812d0b8-df2a-49f4-8a29-cb22ed81a45c"
      },
      "source": [
        "from google.colab import drive\n",
        "drive.mount('/content/drive')"
      ],
      "execution_count": 2,
      "outputs": [
        {
          "output_type": "stream",
          "text": [
            "Mounted at /content/drive\n"
          ],
          "name": "stdout"
        }
      ]
    },
    {
      "cell_type": "code",
      "metadata": {
        "colab": {
          "base_uri": "https://localhost:8080/"
        },
        "id": "tOxIlJ3HRsoH",
        "outputId": "5e5fdd08-3e37-44b1-f551-e13ca4645f59"
      },
      "source": [
        "import pandas as pd\n",
        "path='/content/drive/MyDrive/RentPrediction.csv'\n",
        "df=pd.read_csv('/content/drive/MyDrive/RentPrediction.csv')\n",
        "# Dataset is now stored in a Pandas Dataframe\n",
        "df.describe\n"
      ],
      "execution_count": 3,
      "outputs": [
        {
          "output_type": "execute_result",
          "data": {
            "text/plain": [
              "<bound method NDFrame.describe of              id  ... availability_365\n",
              "0       5728806  ...                0\n",
              "1       2243769  ...                0\n",
              "2      35515415  ...              365\n",
              "3      36202006  ...               82\n",
              "4       3780951  ...              365\n",
              "...         ...  ...              ...\n",
              "34221  28342248  ...                0\n",
              "34222   8438775  ...               32\n",
              "34223  27332770  ...                0\n",
              "34224   9063972  ...                0\n",
              "34225  13372860  ...                0\n",
              "\n",
              "[34226 rows x 14 columns]>"
            ]
          },
          "metadata": {
            "tags": []
          },
          "execution_count": 3
        }
      ]
    },
    {
      "cell_type": "code",
      "metadata": {
        "colab": {
          "base_uri": "https://localhost:8080/",
          "height": 343
        },
        "id": "ndvK9PSeS48e",
        "outputId": "5e602c47-bf20-4d2b-cea6-f8c53968286c"
      },
      "source": [
        "#Loading csv file\n",
        "df =pd.read_csv('/content/drive/MyDrive/RentPrediction.csv')\n",
        "#To read the first 5 rows\n",
        "df.head()\n"
      ],
      "execution_count": 4,
      "outputs": [
        {
          "output_type": "execute_result",
          "data": {
            "text/html": [
              "<div>\n",
              "<style scoped>\n",
              "    .dataframe tbody tr th:only-of-type {\n",
              "        vertical-align: middle;\n",
              "    }\n",
              "\n",
              "    .dataframe tbody tr th {\n",
              "        vertical-align: top;\n",
              "    }\n",
              "\n",
              "    .dataframe thead th {\n",
              "        text-align: right;\n",
              "    }\n",
              "</style>\n",
              "<table border=\"1\" class=\"dataframe\">\n",
              "  <thead>\n",
              "    <tr style=\"text-align: right;\">\n",
              "      <th></th>\n",
              "      <th>id</th>\n",
              "      <th>name</th>\n",
              "      <th>host_name</th>\n",
              "      <th>neighbourhood_group</th>\n",
              "      <th>neighbourhood</th>\n",
              "      <th>latitude</th>\n",
              "      <th>longitude</th>\n",
              "      <th>room_type</th>\n",
              "      <th>price</th>\n",
              "      <th>minimum_nights</th>\n",
              "      <th>number_of_reviews</th>\n",
              "      <th>reviews_per_month</th>\n",
              "      <th>calculated_host_listings_count</th>\n",
              "      <th>availability_365</th>\n",
              "    </tr>\n",
              "  </thead>\n",
              "  <tbody>\n",
              "    <tr>\n",
              "      <th>0</th>\n",
              "      <td>5728806</td>\n",
              "      <td>Large private room in Nolita</td>\n",
              "      <td>Nat</td>\n",
              "      <td>Manhattan</td>\n",
              "      <td>Nolita</td>\n",
              "      <td>40.72217</td>\n",
              "      <td>-73.99481</td>\n",
              "      <td>Private room</td>\n",
              "      <td>120</td>\n",
              "      <td>7</td>\n",
              "      <td>3</td>\n",
              "      <td>0.06</td>\n",
              "      <td>3</td>\n",
              "      <td>0</td>\n",
              "    </tr>\n",
              "    <tr>\n",
              "      <th>1</th>\n",
              "      <td>2243769</td>\n",
              "      <td>Super Bowl New York City Apartment</td>\n",
              "      <td>Brian</td>\n",
              "      <td>Manhattan</td>\n",
              "      <td>Upper West Side</td>\n",
              "      <td>40.80020</td>\n",
              "      <td>-73.96045</td>\n",
              "      <td>Entire home/apt</td>\n",
              "      <td>1500</td>\n",
              "      <td>1</td>\n",
              "      <td>0</td>\n",
              "      <td>NaN</td>\n",
              "      <td>1</td>\n",
              "      <td>0</td>\n",
              "    </tr>\n",
              "    <tr>\n",
              "      <th>2</th>\n",
              "      <td>35515415</td>\n",
              "      <td>COZY APT CLOSE TO LGA &amp; JFK AND TRANSPORTATION</td>\n",
              "      <td>Jenny</td>\n",
              "      <td>Queens</td>\n",
              "      <td>East Elmhurst</td>\n",
              "      <td>40.75558</td>\n",
              "      <td>-73.89316</td>\n",
              "      <td>Entire home/apt</td>\n",
              "      <td>200</td>\n",
              "      <td>2</td>\n",
              "      <td>4</td>\n",
              "      <td>4.00</td>\n",
              "      <td>1</td>\n",
              "      <td>365</td>\n",
              "    </tr>\n",
              "    <tr>\n",
              "      <th>3</th>\n",
              "      <td>36202006</td>\n",
              "      <td>Stream-Pressed Paradise (Laundry Room Setup)</td>\n",
              "      <td>Rita</td>\n",
              "      <td>Staten Island</td>\n",
              "      <td>Concord</td>\n",
              "      <td>40.60110</td>\n",
              "      <td>-74.07830</td>\n",
              "      <td>Shared room</td>\n",
              "      <td>30</td>\n",
              "      <td>2</td>\n",
              "      <td>0</td>\n",
              "      <td>NaN</td>\n",
              "      <td>4</td>\n",
              "      <td>82</td>\n",
              "    </tr>\n",
              "    <tr>\n",
              "      <th>4</th>\n",
              "      <td>3780951</td>\n",
              "      <td>Charming Harlem apartment</td>\n",
              "      <td>Gina</td>\n",
              "      <td>Manhattan</td>\n",
              "      <td>Harlem</td>\n",
              "      <td>40.81022</td>\n",
              "      <td>-73.94266</td>\n",
              "      <td>Shared room</td>\n",
              "      <td>115</td>\n",
              "      <td>1</td>\n",
              "      <td>16</td>\n",
              "      <td>0.27</td>\n",
              "      <td>1</td>\n",
              "      <td>365</td>\n",
              "    </tr>\n",
              "  </tbody>\n",
              "</table>\n",
              "</div>"
            ],
            "text/plain": [
              "         id  ... availability_365\n",
              "0   5728806  ...                0\n",
              "1   2243769  ...                0\n",
              "2  35515415  ...              365\n",
              "3  36202006  ...               82\n",
              "4   3780951  ...              365\n",
              "\n",
              "[5 rows x 14 columns]"
            ]
          },
          "metadata": {
            "tags": []
          },
          "execution_count": 4
        }
      ]
    },
    {
      "cell_type": "code",
      "metadata": {
        "colab": {
          "base_uri": "https://localhost:8080/",
          "height": 513
        },
        "id": "qmjPRhCKTlXe",
        "outputId": "b5fda430-3070-4c62-eefc-ffbd769c3f06"
      },
      "source": [
        "#to read the bottom 5 rows\n",
        "df.tail()\n"
      ],
      "execution_count": 5,
      "outputs": [
        {
          "output_type": "execute_result",
          "data": {
            "text/html": [
              "<div>\n",
              "<style scoped>\n",
              "    .dataframe tbody tr th:only-of-type {\n",
              "        vertical-align: middle;\n",
              "    }\n",
              "\n",
              "    .dataframe tbody tr th {\n",
              "        vertical-align: top;\n",
              "    }\n",
              "\n",
              "    .dataframe thead th {\n",
              "        text-align: right;\n",
              "    }\n",
              "</style>\n",
              "<table border=\"1\" class=\"dataframe\">\n",
              "  <thead>\n",
              "    <tr style=\"text-align: right;\">\n",
              "      <th></th>\n",
              "      <th>id</th>\n",
              "      <th>name</th>\n",
              "      <th>host_name</th>\n",
              "      <th>neighbourhood_group</th>\n",
              "      <th>neighbourhood</th>\n",
              "      <th>latitude</th>\n",
              "      <th>longitude</th>\n",
              "      <th>room_type</th>\n",
              "      <th>price</th>\n",
              "      <th>minimum_nights</th>\n",
              "      <th>number_of_reviews</th>\n",
              "      <th>reviews_per_month</th>\n",
              "      <th>calculated_host_listings_count</th>\n",
              "      <th>availability_365</th>\n",
              "    </tr>\n",
              "  </thead>\n",
              "  <tbody>\n",
              "    <tr>\n",
              "      <th>34221</th>\n",
              "      <td>28342248</td>\n",
              "      <td>Ridgewood retreat</td>\n",
              "      <td>Sophie</td>\n",
              "      <td>Queens</td>\n",
              "      <td>Ridgewood</td>\n",
              "      <td>40.70602</td>\n",
              "      <td>-73.90485</td>\n",
              "      <td>Entire home/apt</td>\n",
              "      <td>80</td>\n",
              "      <td>5</td>\n",
              "      <td>2</td>\n",
              "      <td>0.21</td>\n",
              "      <td>1</td>\n",
              "      <td>0</td>\n",
              "    </tr>\n",
              "    <tr>\n",
              "      <th>34222</th>\n",
              "      <td>8438775</td>\n",
              "      <td>Private BR &amp; Bath near Central Park</td>\n",
              "      <td>Gabi</td>\n",
              "      <td>Manhattan</td>\n",
              "      <td>Upper West Side</td>\n",
              "      <td>40.77697</td>\n",
              "      <td>-73.97698</td>\n",
              "      <td>Private room</td>\n",
              "      <td>137</td>\n",
              "      <td>1</td>\n",
              "      <td>163</td>\n",
              "      <td>3.55</td>\n",
              "      <td>1</td>\n",
              "      <td>32</td>\n",
              "    </tr>\n",
              "    <tr>\n",
              "      <th>34223</th>\n",
              "      <td>27332770</td>\n",
              "      <td>Warm Home w/ Private Garden (Inwood Manhattan ...</td>\n",
              "      <td>Mary</td>\n",
              "      <td>Manhattan</td>\n",
              "      <td>Inwood</td>\n",
              "      <td>40.86912</td>\n",
              "      <td>-73.92183</td>\n",
              "      <td>Entire home/apt</td>\n",
              "      <td>195</td>\n",
              "      <td>2</td>\n",
              "      <td>6</td>\n",
              "      <td>0.53</td>\n",
              "      <td>1</td>\n",
              "      <td>0</td>\n",
              "    </tr>\n",
              "    <tr>\n",
              "      <th>34224</th>\n",
              "      <td>9063972</td>\n",
              "      <td>Chill Bushwick Suite</td>\n",
              "      <td>Olu Bliss</td>\n",
              "      <td>Brooklyn</td>\n",
              "      <td>Bushwick</td>\n",
              "      <td>40.69709</td>\n",
              "      <td>-73.91435</td>\n",
              "      <td>Private room</td>\n",
              "      <td>80</td>\n",
              "      <td>3</td>\n",
              "      <td>0</td>\n",
              "      <td>NaN</td>\n",
              "      <td>1</td>\n",
              "      <td>0</td>\n",
              "    </tr>\n",
              "    <tr>\n",
              "      <th>34225</th>\n",
              "      <td>13372860</td>\n",
              "      <td>Cozy and simple Bedstuy studio right by the train</td>\n",
              "      <td>Ashton</td>\n",
              "      <td>Brooklyn</td>\n",
              "      <td>Bedford-Stuyvesant</td>\n",
              "      <td>40.69076</td>\n",
              "      <td>-73.92886</td>\n",
              "      <td>Entire home/apt</td>\n",
              "      <td>69</td>\n",
              "      <td>4</td>\n",
              "      <td>5</td>\n",
              "      <td>0.13</td>\n",
              "      <td>1</td>\n",
              "      <td>0</td>\n",
              "    </tr>\n",
              "  </tbody>\n",
              "</table>\n",
              "</div>"
            ],
            "text/plain": [
              "             id  ... availability_365\n",
              "34221  28342248  ...                0\n",
              "34222   8438775  ...               32\n",
              "34223  27332770  ...                0\n",
              "34224   9063972  ...                0\n",
              "34225  13372860  ...                0\n",
              "\n",
              "[5 rows x 14 columns]"
            ]
          },
          "metadata": {
            "tags": []
          },
          "execution_count": 5
        }
      ]
    },
    {
      "cell_type": "code",
      "metadata": {
        "colab": {
          "base_uri": "https://localhost:8080/"
        },
        "id": "4fM2Z1odTxAO",
        "outputId": "8a1182ef-44f6-43c2-854e-d52198465781"
      },
      "source": [
        "#information about each column\n",
        "df.info()"
      ],
      "execution_count": null,
      "outputs": [
        {
          "output_type": "stream",
          "text": [
            "<class 'pandas.core.frame.DataFrame'>\n",
            "RangeIndex: 34226 entries, 0 to 34225\n",
            "Data columns (total 14 columns):\n",
            " #   Column                          Non-Null Count  Dtype  \n",
            "---  ------                          --------------  -----  \n",
            " 0   id                              34226 non-null  int64  \n",
            " 1   name                            34214 non-null  object \n",
            " 2   host_name                       34213 non-null  object \n",
            " 3   neighbourhood_group             34226 non-null  object \n",
            " 4   neighbourhood                   34226 non-null  object \n",
            " 5   latitude                        34226 non-null  float64\n",
            " 6   longitude                       34226 non-null  float64\n",
            " 7   room_type                       34226 non-null  object \n",
            " 8   price                           34226 non-null  int64  \n",
            " 9   minimum_nights                  34226 non-null  int64  \n",
            " 10  number_of_reviews               34226 non-null  int64  \n",
            " 11  reviews_per_month               27244 non-null  float64\n",
            " 12  calculated_host_listings_count  34226 non-null  int64  \n",
            " 13  availability_365                34226 non-null  int64  \n",
            "dtypes: float64(3), int64(6), object(5)\n",
            "memory usage: 3.7+ MB\n"
          ],
          "name": "stdout"
        }
      ]
    },
    {
      "cell_type": "code",
      "metadata": {
        "id": "uxuWvByJXyOQ",
        "colab": {
          "base_uri": "https://localhost:8080/",
          "height": 173
        },
        "outputId": "5369b720-d274-4d9c-deaf-aecf04dafd6d"
      },
      "source": [
        "#Statistical description\n",
        "df.describe(include=np.object)"
      ],
      "execution_count": 6,
      "outputs": [
        {
          "output_type": "execute_result",
          "data": {
            "text/html": [
              "<div>\n",
              "<style scoped>\n",
              "    .dataframe tbody tr th:only-of-type {\n",
              "        vertical-align: middle;\n",
              "    }\n",
              "\n",
              "    .dataframe tbody tr th {\n",
              "        vertical-align: top;\n",
              "    }\n",
              "\n",
              "    .dataframe thead th {\n",
              "        text-align: right;\n",
              "    }\n",
              "</style>\n",
              "<table border=\"1\" class=\"dataframe\">\n",
              "  <thead>\n",
              "    <tr style=\"text-align: right;\">\n",
              "      <th></th>\n",
              "      <th>name</th>\n",
              "      <th>host_name</th>\n",
              "      <th>neighbourhood_group</th>\n",
              "      <th>neighbourhood</th>\n",
              "      <th>room_type</th>\n",
              "    </tr>\n",
              "  </thead>\n",
              "  <tbody>\n",
              "    <tr>\n",
              "      <th>count</th>\n",
              "      <td>34214</td>\n",
              "      <td>34213</td>\n",
              "      <td>34226</td>\n",
              "      <td>34226</td>\n",
              "      <td>34226</td>\n",
              "    </tr>\n",
              "    <tr>\n",
              "      <th>unique</th>\n",
              "      <td>33660</td>\n",
              "      <td>9290</td>\n",
              "      <td>5</td>\n",
              "      <td>217</td>\n",
              "      <td>3</td>\n",
              "    </tr>\n",
              "    <tr>\n",
              "      <th>top</th>\n",
              "      <td>Home away from home</td>\n",
              "      <td>Michael</td>\n",
              "      <td>Manhattan</td>\n",
              "      <td>Williamsburg</td>\n",
              "      <td>Entire home/apt</td>\n",
              "    </tr>\n",
              "    <tr>\n",
              "      <th>freq</th>\n",
              "      <td>13</td>\n",
              "      <td>291</td>\n",
              "      <td>15193</td>\n",
              "      <td>2756</td>\n",
              "      <td>17829</td>\n",
              "    </tr>\n",
              "  </tbody>\n",
              "</table>\n",
              "</div>"
            ],
            "text/plain": [
              "                       name host_name  ... neighbourhood        room_type\n",
              "count                 34214     34213  ...         34226            34226\n",
              "unique                33660      9290  ...           217                3\n",
              "top     Home away from home   Michael  ...  Williamsburg  Entire home/apt\n",
              "freq                     13       291  ...          2756            17829\n",
              "\n",
              "[4 rows x 5 columns]"
            ]
          },
          "metadata": {
            "tags": []
          },
          "execution_count": 6
        }
      ]
    },
    {
      "cell_type": "code",
      "metadata": {
        "colab": {
          "base_uri": "https://localhost:8080/"
        },
        "id": "0kpDN9g4nzg-",
        "outputId": "9557a345-2954-4558-b774-e1c8ba01efd6"
      },
      "source": [
        "#To display the name of the columns\n",
        "df.columns"
      ],
      "execution_count": 8,
      "outputs": [
        {
          "output_type": "execute_result",
          "data": {
            "text/plain": [
              "Index(['id', 'name', 'host_name', 'neighbourhood_group', 'neighbourhood',\n",
              "       'latitude', 'longitude', 'room_type', 'price', 'minimum_nights',\n",
              "       'number_of_reviews', 'reviews_per_month',\n",
              "       'calculated_host_listings_count', 'availability_365'],\n",
              "      dtype='object')"
            ]
          },
          "metadata": {
            "tags": []
          },
          "execution_count": 8
        }
      ]
    },
    {
      "cell_type": "code",
      "metadata": {
        "colab": {
          "base_uri": "https://localhost:8080/"
        },
        "id": "DrDfdHyMXt1J",
        "outputId": "8bc13334-dd60-4011-d80f-60be3b5b9e6b"
      },
      "source": [
        "#Shape of the dataset (rows,columns)\n",
        "df.shape"
      ],
      "execution_count": 7,
      "outputs": [
        {
          "output_type": "execute_result",
          "data": {
            "text/plain": [
              "(34226, 14)"
            ]
          },
          "metadata": {
            "tags": []
          },
          "execution_count": 7
        }
      ]
    },
    {
      "cell_type": "code",
      "metadata": {
        "colab": {
          "base_uri": "https://localhost:8080/"
        },
        "id": "iwyFCQ7VX7Ju",
        "outputId": "33feac1f-19e2-41e9-9500-9b143c31d240"
      },
      "source": [
        "#to find the total number of null values\n",
        "df.isnull().sum()"
      ],
      "execution_count": 9,
      "outputs": [
        {
          "output_type": "execute_result",
          "data": {
            "text/plain": [
              "id                                   0\n",
              "name                                12\n",
              "host_name                           13\n",
              "neighbourhood_group                  0\n",
              "neighbourhood                        0\n",
              "latitude                             0\n",
              "longitude                            0\n",
              "room_type                            0\n",
              "price                                0\n",
              "minimum_nights                       0\n",
              "number_of_reviews                    0\n",
              "reviews_per_month                 6982\n",
              "calculated_host_listings_count       0\n",
              "availability_365                     0\n",
              "dtype: int64"
            ]
          },
          "metadata": {
            "tags": []
          },
          "execution_count": 9
        }
      ]
    },
    {
      "cell_type": "code",
      "metadata": {
        "colab": {
          "base_uri": "https://localhost:8080/"
        },
        "id": "OAEtwlmtYeVc",
        "outputId": "66593486-07ae-430e-de59-9456ff89bb0e"
      },
      "source": [
        "#To find the unique values in a categorical column\n",
        "df['neighbourhood_group'].unique()"
      ],
      "execution_count": 10,
      "outputs": [
        {
          "output_type": "execute_result",
          "data": {
            "text/plain": [
              "array(['Manhattan', 'Queens', 'Staten Island', 'Brooklyn', 'Bronx'],\n",
              "      dtype=object)"
            ]
          },
          "metadata": {
            "tags": []
          },
          "execution_count": 10
        }
      ]
    },
    {
      "cell_type": "code",
      "metadata": {
        "colab": {
          "base_uri": "https://localhost:8080/"
        },
        "id": "-e05_NR_Y3Eh",
        "outputId": "dce74677-4a4a-49dd-878f-5eef27a82fa1"
      },
      "source": [
        "#To find the number of unique values \n",
        "df['neighbourhood_group'].nunique()\n"
      ],
      "execution_count": 11,
      "outputs": [
        {
          "output_type": "execute_result",
          "data": {
            "text/plain": [
              "5"
            ]
          },
          "metadata": {
            "tags": []
          },
          "execution_count": 11
        }
      ]
    },
    {
      "cell_type": "markdown",
      "metadata": {
        "id": "gDZfIIrn2wni"
      },
      "source": [
        "COLUMN OPERATIONS"
      ]
    },
    {
      "cell_type": "code",
      "metadata": {
        "colab": {
          "base_uri": "https://localhost:8080/",
          "height": 419
        },
        "id": "ve70hNfEZVkK",
        "outputId": "729c00d3-b3cd-4a87-c955-dbc772755b87"
      },
      "source": [
        "#Selection of a column\n",
        "df[['room_type']]\n"
      ],
      "execution_count": 12,
      "outputs": [
        {
          "output_type": "execute_result",
          "data": {
            "text/html": [
              "<div>\n",
              "<style scoped>\n",
              "    .dataframe tbody tr th:only-of-type {\n",
              "        vertical-align: middle;\n",
              "    }\n",
              "\n",
              "    .dataframe tbody tr th {\n",
              "        vertical-align: top;\n",
              "    }\n",
              "\n",
              "    .dataframe thead th {\n",
              "        text-align: right;\n",
              "    }\n",
              "</style>\n",
              "<table border=\"1\" class=\"dataframe\">\n",
              "  <thead>\n",
              "    <tr style=\"text-align: right;\">\n",
              "      <th></th>\n",
              "      <th>room_type</th>\n",
              "    </tr>\n",
              "  </thead>\n",
              "  <tbody>\n",
              "    <tr>\n",
              "      <th>0</th>\n",
              "      <td>Private room</td>\n",
              "    </tr>\n",
              "    <tr>\n",
              "      <th>1</th>\n",
              "      <td>Entire home/apt</td>\n",
              "    </tr>\n",
              "    <tr>\n",
              "      <th>2</th>\n",
              "      <td>Entire home/apt</td>\n",
              "    </tr>\n",
              "    <tr>\n",
              "      <th>3</th>\n",
              "      <td>Shared room</td>\n",
              "    </tr>\n",
              "    <tr>\n",
              "      <th>4</th>\n",
              "      <td>Shared room</td>\n",
              "    </tr>\n",
              "    <tr>\n",
              "      <th>...</th>\n",
              "      <td>...</td>\n",
              "    </tr>\n",
              "    <tr>\n",
              "      <th>34221</th>\n",
              "      <td>Entire home/apt</td>\n",
              "    </tr>\n",
              "    <tr>\n",
              "      <th>34222</th>\n",
              "      <td>Private room</td>\n",
              "    </tr>\n",
              "    <tr>\n",
              "      <th>34223</th>\n",
              "      <td>Entire home/apt</td>\n",
              "    </tr>\n",
              "    <tr>\n",
              "      <th>34224</th>\n",
              "      <td>Private room</td>\n",
              "    </tr>\n",
              "    <tr>\n",
              "      <th>34225</th>\n",
              "      <td>Entire home/apt</td>\n",
              "    </tr>\n",
              "  </tbody>\n",
              "</table>\n",
              "<p>34226 rows × 1 columns</p>\n",
              "</div>"
            ],
            "text/plain": [
              "             room_type\n",
              "0         Private room\n",
              "1      Entire home/apt\n",
              "2      Entire home/apt\n",
              "3          Shared room\n",
              "4          Shared room\n",
              "...                ...\n",
              "34221  Entire home/apt\n",
              "34222     Private room\n",
              "34223  Entire home/apt\n",
              "34224     Private room\n",
              "34225  Entire home/apt\n",
              "\n",
              "[34226 rows x 1 columns]"
            ]
          },
          "metadata": {
            "tags": []
          },
          "execution_count": 12
        }
      ]
    },
    {
      "cell_type": "code",
      "metadata": {
        "colab": {
          "base_uri": "https://localhost:8080/",
          "height": 439
        },
        "id": "MV7Tx0QmZkEl",
        "outputId": "f4a9f4f4-81e7-4e05-85bd-16eb095e354b"
      },
      "source": [
        "#Making a new column-total listings possible -used during feature engineering process \n",
        "df['Total_listings']=df['availability_365']/df['minimum_nights']\n",
        "df.head(7)"
      ],
      "execution_count": 13,
      "outputs": [
        {
          "output_type": "execute_result",
          "data": {
            "text/html": [
              "<div>\n",
              "<style scoped>\n",
              "    .dataframe tbody tr th:only-of-type {\n",
              "        vertical-align: middle;\n",
              "    }\n",
              "\n",
              "    .dataframe tbody tr th {\n",
              "        vertical-align: top;\n",
              "    }\n",
              "\n",
              "    .dataframe thead th {\n",
              "        text-align: right;\n",
              "    }\n",
              "</style>\n",
              "<table border=\"1\" class=\"dataframe\">\n",
              "  <thead>\n",
              "    <tr style=\"text-align: right;\">\n",
              "      <th></th>\n",
              "      <th>id</th>\n",
              "      <th>name</th>\n",
              "      <th>host_name</th>\n",
              "      <th>neighbourhood_group</th>\n",
              "      <th>neighbourhood</th>\n",
              "      <th>latitude</th>\n",
              "      <th>longitude</th>\n",
              "      <th>room_type</th>\n",
              "      <th>price</th>\n",
              "      <th>minimum_nights</th>\n",
              "      <th>number_of_reviews</th>\n",
              "      <th>reviews_per_month</th>\n",
              "      <th>calculated_host_listings_count</th>\n",
              "      <th>availability_365</th>\n",
              "      <th>Total_listings</th>\n",
              "    </tr>\n",
              "  </thead>\n",
              "  <tbody>\n",
              "    <tr>\n",
              "      <th>0</th>\n",
              "      <td>5728806</td>\n",
              "      <td>Large private room in Nolita</td>\n",
              "      <td>Nat</td>\n",
              "      <td>Manhattan</td>\n",
              "      <td>Nolita</td>\n",
              "      <td>40.72217</td>\n",
              "      <td>-73.99481</td>\n",
              "      <td>Private room</td>\n",
              "      <td>120</td>\n",
              "      <td>7</td>\n",
              "      <td>3</td>\n",
              "      <td>0.06</td>\n",
              "      <td>3</td>\n",
              "      <td>0</td>\n",
              "      <td>0.000000</td>\n",
              "    </tr>\n",
              "    <tr>\n",
              "      <th>1</th>\n",
              "      <td>2243769</td>\n",
              "      <td>Super Bowl New York City Apartment</td>\n",
              "      <td>Brian</td>\n",
              "      <td>Manhattan</td>\n",
              "      <td>Upper West Side</td>\n",
              "      <td>40.80020</td>\n",
              "      <td>-73.96045</td>\n",
              "      <td>Entire home/apt</td>\n",
              "      <td>1500</td>\n",
              "      <td>1</td>\n",
              "      <td>0</td>\n",
              "      <td>NaN</td>\n",
              "      <td>1</td>\n",
              "      <td>0</td>\n",
              "      <td>0.000000</td>\n",
              "    </tr>\n",
              "    <tr>\n",
              "      <th>2</th>\n",
              "      <td>35515415</td>\n",
              "      <td>COZY APT CLOSE TO LGA &amp; JFK AND TRANSPORTATION</td>\n",
              "      <td>Jenny</td>\n",
              "      <td>Queens</td>\n",
              "      <td>East Elmhurst</td>\n",
              "      <td>40.75558</td>\n",
              "      <td>-73.89316</td>\n",
              "      <td>Entire home/apt</td>\n",
              "      <td>200</td>\n",
              "      <td>2</td>\n",
              "      <td>4</td>\n",
              "      <td>4.00</td>\n",
              "      <td>1</td>\n",
              "      <td>365</td>\n",
              "      <td>182.500000</td>\n",
              "    </tr>\n",
              "    <tr>\n",
              "      <th>3</th>\n",
              "      <td>36202006</td>\n",
              "      <td>Stream-Pressed Paradise (Laundry Room Setup)</td>\n",
              "      <td>Rita</td>\n",
              "      <td>Staten Island</td>\n",
              "      <td>Concord</td>\n",
              "      <td>40.60110</td>\n",
              "      <td>-74.07830</td>\n",
              "      <td>Shared room</td>\n",
              "      <td>30</td>\n",
              "      <td>2</td>\n",
              "      <td>0</td>\n",
              "      <td>NaN</td>\n",
              "      <td>4</td>\n",
              "      <td>82</td>\n",
              "      <td>41.000000</td>\n",
              "    </tr>\n",
              "    <tr>\n",
              "      <th>4</th>\n",
              "      <td>3780951</td>\n",
              "      <td>Charming Harlem apartment</td>\n",
              "      <td>Gina</td>\n",
              "      <td>Manhattan</td>\n",
              "      <td>Harlem</td>\n",
              "      <td>40.81022</td>\n",
              "      <td>-73.94266</td>\n",
              "      <td>Shared room</td>\n",
              "      <td>115</td>\n",
              "      <td>1</td>\n",
              "      <td>16</td>\n",
              "      <td>0.27</td>\n",
              "      <td>1</td>\n",
              "      <td>365</td>\n",
              "      <td>365.000000</td>\n",
              "    </tr>\n",
              "    <tr>\n",
              "      <th>5</th>\n",
              "      <td>9944426</td>\n",
              "      <td>Lower Manhattan Luxury</td>\n",
              "      <td>Dax</td>\n",
              "      <td>Manhattan</td>\n",
              "      <td>Battery Park City</td>\n",
              "      <td>40.71192</td>\n",
              "      <td>-74.01572</td>\n",
              "      <td>Entire home/apt</td>\n",
              "      <td>225</td>\n",
              "      <td>90</td>\n",
              "      <td>1</td>\n",
              "      <td>0.02</td>\n",
              "      <td>1</td>\n",
              "      <td>362</td>\n",
              "      <td>4.022222</td>\n",
              "    </tr>\n",
              "    <tr>\n",
              "      <th>6</th>\n",
              "      <td>19786915</td>\n",
              "      <td>Spacious Clean Studio  Apartment</td>\n",
              "      <td>Marian</td>\n",
              "      <td>Queens</td>\n",
              "      <td>Rosedale</td>\n",
              "      <td>40.65766</td>\n",
              "      <td>-73.72838</td>\n",
              "      <td>Entire home/apt</td>\n",
              "      <td>60</td>\n",
              "      <td>1</td>\n",
              "      <td>57</td>\n",
              "      <td>2.41</td>\n",
              "      <td>1</td>\n",
              "      <td>336</td>\n",
              "      <td>336.000000</td>\n",
              "    </tr>\n",
              "  </tbody>\n",
              "</table>\n",
              "</div>"
            ],
            "text/plain": [
              "         id  ... Total_listings\n",
              "0   5728806  ...       0.000000\n",
              "1   2243769  ...       0.000000\n",
              "2  35515415  ...     182.500000\n",
              "3  36202006  ...      41.000000\n",
              "4   3780951  ...     365.000000\n",
              "5   9944426  ...       4.022222\n",
              "6  19786915  ...     336.000000\n",
              "\n",
              "[7 rows x 15 columns]"
            ]
          },
          "metadata": {
            "tags": []
          },
          "execution_count": 13
        }
      ]
    },
    {
      "cell_type": "code",
      "metadata": {
        "id": "-pzMz3bGbEER"
      },
      "source": [
        "#Deleting a column\n",
        "df.drop(['Total_listings'], axis=1, inplace=True)"
      ],
      "execution_count": 14,
      "outputs": []
    },
    {
      "cell_type": "code",
      "metadata": {
        "colab": {
          "base_uri": "https://localhost:8080/",
          "height": 233
        },
        "id": "GBeKXuRjbmUW",
        "outputId": "24d54047-5a4c-4725-9d3f-51b63f64eb70"
      },
      "source": [
        "df.head(2)\n"
      ],
      "execution_count": 15,
      "outputs": [
        {
          "output_type": "execute_result",
          "data": {
            "text/html": [
              "<div>\n",
              "<style scoped>\n",
              "    .dataframe tbody tr th:only-of-type {\n",
              "        vertical-align: middle;\n",
              "    }\n",
              "\n",
              "    .dataframe tbody tr th {\n",
              "        vertical-align: top;\n",
              "    }\n",
              "\n",
              "    .dataframe thead th {\n",
              "        text-align: right;\n",
              "    }\n",
              "</style>\n",
              "<table border=\"1\" class=\"dataframe\">\n",
              "  <thead>\n",
              "    <tr style=\"text-align: right;\">\n",
              "      <th></th>\n",
              "      <th>id</th>\n",
              "      <th>name</th>\n",
              "      <th>host_name</th>\n",
              "      <th>neighbourhood_group</th>\n",
              "      <th>neighbourhood</th>\n",
              "      <th>latitude</th>\n",
              "      <th>longitude</th>\n",
              "      <th>room_type</th>\n",
              "      <th>price</th>\n",
              "      <th>minimum_nights</th>\n",
              "      <th>number_of_reviews</th>\n",
              "      <th>reviews_per_month</th>\n",
              "      <th>calculated_host_listings_count</th>\n",
              "      <th>availability_365</th>\n",
              "    </tr>\n",
              "  </thead>\n",
              "  <tbody>\n",
              "    <tr>\n",
              "      <th>0</th>\n",
              "      <td>5728806</td>\n",
              "      <td>Large private room in Nolita</td>\n",
              "      <td>Nat</td>\n",
              "      <td>Manhattan</td>\n",
              "      <td>Nolita</td>\n",
              "      <td>40.72217</td>\n",
              "      <td>-73.99481</td>\n",
              "      <td>Private room</td>\n",
              "      <td>120</td>\n",
              "      <td>7</td>\n",
              "      <td>3</td>\n",
              "      <td>0.06</td>\n",
              "      <td>3</td>\n",
              "      <td>0</td>\n",
              "    </tr>\n",
              "    <tr>\n",
              "      <th>1</th>\n",
              "      <td>2243769</td>\n",
              "      <td>Super Bowl New York City Apartment</td>\n",
              "      <td>Brian</td>\n",
              "      <td>Manhattan</td>\n",
              "      <td>Upper West Side</td>\n",
              "      <td>40.80020</td>\n",
              "      <td>-73.96045</td>\n",
              "      <td>Entire home/apt</td>\n",
              "      <td>1500</td>\n",
              "      <td>1</td>\n",
              "      <td>0</td>\n",
              "      <td>NaN</td>\n",
              "      <td>1</td>\n",
              "      <td>0</td>\n",
              "    </tr>\n",
              "  </tbody>\n",
              "</table>\n",
              "</div>"
            ],
            "text/plain": [
              "        id  ... availability_365\n",
              "0  5728806  ...                0\n",
              "1  2243769  ...                0\n",
              "\n",
              "[2 rows x 14 columns]"
            ]
          },
          "metadata": {
            "tags": []
          },
          "execution_count": 15
        }
      ]
    },
    {
      "cell_type": "code",
      "metadata": {
        "colab": {
          "base_uri": "https://localhost:8080/",
          "height": 230
        },
        "id": "ickHn2Olb9GK",
        "outputId": "d35b61b9-9e84-4867-8da2-53826dbd5f40"
      },
      "source": [
        "df.head(3)   #hostname is set as index "
      ],
      "execution_count": 16,
      "outputs": [
        {
          "output_type": "execute_result",
          "data": {
            "text/html": [
              "<div>\n",
              "<style scoped>\n",
              "    .dataframe tbody tr th:only-of-type {\n",
              "        vertical-align: middle;\n",
              "    }\n",
              "\n",
              "    .dataframe tbody tr th {\n",
              "        vertical-align: top;\n",
              "    }\n",
              "\n",
              "    .dataframe thead th {\n",
              "        text-align: right;\n",
              "    }\n",
              "</style>\n",
              "<table border=\"1\" class=\"dataframe\">\n",
              "  <thead>\n",
              "    <tr style=\"text-align: right;\">\n",
              "      <th></th>\n",
              "      <th>id</th>\n",
              "      <th>name</th>\n",
              "      <th>host_name</th>\n",
              "      <th>neighbourhood_group</th>\n",
              "      <th>neighbourhood</th>\n",
              "      <th>latitude</th>\n",
              "      <th>longitude</th>\n",
              "      <th>room_type</th>\n",
              "      <th>price</th>\n",
              "      <th>minimum_nights</th>\n",
              "      <th>number_of_reviews</th>\n",
              "      <th>reviews_per_month</th>\n",
              "      <th>calculated_host_listings_count</th>\n",
              "      <th>availability_365</th>\n",
              "    </tr>\n",
              "  </thead>\n",
              "  <tbody>\n",
              "    <tr>\n",
              "      <th>0</th>\n",
              "      <td>5728806</td>\n",
              "      <td>Large private room in Nolita</td>\n",
              "      <td>Nat</td>\n",
              "      <td>Manhattan</td>\n",
              "      <td>Nolita</td>\n",
              "      <td>40.72217</td>\n",
              "      <td>-73.99481</td>\n",
              "      <td>Private room</td>\n",
              "      <td>120</td>\n",
              "      <td>7</td>\n",
              "      <td>3</td>\n",
              "      <td>0.06</td>\n",
              "      <td>3</td>\n",
              "      <td>0</td>\n",
              "    </tr>\n",
              "    <tr>\n",
              "      <th>1</th>\n",
              "      <td>2243769</td>\n",
              "      <td>Super Bowl New York City Apartment</td>\n",
              "      <td>Brian</td>\n",
              "      <td>Manhattan</td>\n",
              "      <td>Upper West Side</td>\n",
              "      <td>40.80020</td>\n",
              "      <td>-73.96045</td>\n",
              "      <td>Entire home/apt</td>\n",
              "      <td>1500</td>\n",
              "      <td>1</td>\n",
              "      <td>0</td>\n",
              "      <td>NaN</td>\n",
              "      <td>1</td>\n",
              "      <td>0</td>\n",
              "    </tr>\n",
              "    <tr>\n",
              "      <th>2</th>\n",
              "      <td>35515415</td>\n",
              "      <td>COZY APT CLOSE TO LGA &amp; JFK AND TRANSPORTATION</td>\n",
              "      <td>Jenny</td>\n",
              "      <td>Queens</td>\n",
              "      <td>East Elmhurst</td>\n",
              "      <td>40.75558</td>\n",
              "      <td>-73.89316</td>\n",
              "      <td>Entire home/apt</td>\n",
              "      <td>200</td>\n",
              "      <td>2</td>\n",
              "      <td>4</td>\n",
              "      <td>4.00</td>\n",
              "      <td>1</td>\n",
              "      <td>365</td>\n",
              "    </tr>\n",
              "  </tbody>\n",
              "</table>\n",
              "</div>"
            ],
            "text/plain": [
              "         id  ... availability_365\n",
              "0   5728806  ...                0\n",
              "1   2243769  ...                0\n",
              "2  35515415  ...              365\n",
              "\n",
              "[3 rows x 14 columns]"
            ]
          },
          "metadata": {
            "tags": []
          },
          "execution_count": 16
        }
      ]
    },
    {
      "cell_type": "code",
      "metadata": {
        "id": "Aq4p4-J2e7Ax"
      },
      "source": [
        "#Rename a column\n",
        "df.rename(columns = {'calculated_host_listings_count':'host_listing', 'availability_365': 'availability'}, inplace = True)"
      ],
      "execution_count": 17,
      "outputs": []
    },
    {
      "cell_type": "markdown",
      "metadata": {
        "id": "KgTiqxhwq6T7"
      },
      "source": [
        "ROW OPERATIONS"
      ]
    },
    {
      "cell_type": "code",
      "metadata": {
        "id": "kXgSmoaJrBVB"
      },
      "source": [
        "#Locating a row\n",
        "#df.loc['Brian']     #index\n",
        "\n",
        "#Locate using row number\n",
        "#df.iloc[1]     #row number"
      ],
      "execution_count": 18,
      "outputs": []
    },
    {
      "cell_type": "code",
      "metadata": {
        "colab": {
          "base_uri": "https://localhost:8080/"
        },
        "id": "mKsAL5hYqImQ",
        "outputId": "5cbed748-10ad-4fa5-8669-7ec96d0f871c"
      },
      "source": [
        "#Function to find total values in each category\n",
        "df['room_type'].value_counts()"
      ],
      "execution_count": 19,
      "outputs": [
        {
          "output_type": "execute_result",
          "data": {
            "text/plain": [
              "Entire home/apt    17829\n",
              "Private room       15594\n",
              "Shared room          803\n",
              "Name: room_type, dtype: int64"
            ]
          },
          "metadata": {
            "tags": []
          },
          "execution_count": 19
        }
      ]
    },
    {
      "cell_type": "code",
      "metadata": {
        "id": "4Ykit0uCqAqh"
      },
      "source": [
        ""
      ],
      "execution_count": null,
      "outputs": []
    },
    {
      "cell_type": "code",
      "metadata": {
        "colab": {
          "base_uri": "https://localhost:8080/",
          "height": 1000
        },
        "id": "Es03KZUYsaQ8",
        "outputId": "73561b27-9dc4-4d66-eb0d-6d98d28c7f58"
      },
      "source": [
        "#Conditional filtering - view only the data from Bronx neighbourhood group\n",
        "df[df['neighbourhood_group'] == 'Manhattan']"
      ],
      "execution_count": 20,
      "outputs": [
        {
          "output_type": "execute_result",
          "data": {
            "text/html": [
              "<div>\n",
              "<style scoped>\n",
              "    .dataframe tbody tr th:only-of-type {\n",
              "        vertical-align: middle;\n",
              "    }\n",
              "\n",
              "    .dataframe tbody tr th {\n",
              "        vertical-align: top;\n",
              "    }\n",
              "\n",
              "    .dataframe thead th {\n",
              "        text-align: right;\n",
              "    }\n",
              "</style>\n",
              "<table border=\"1\" class=\"dataframe\">\n",
              "  <thead>\n",
              "    <tr style=\"text-align: right;\">\n",
              "      <th></th>\n",
              "      <th>id</th>\n",
              "      <th>name</th>\n",
              "      <th>host_name</th>\n",
              "      <th>neighbourhood_group</th>\n",
              "      <th>neighbourhood</th>\n",
              "      <th>latitude</th>\n",
              "      <th>longitude</th>\n",
              "      <th>room_type</th>\n",
              "      <th>price</th>\n",
              "      <th>minimum_nights</th>\n",
              "      <th>number_of_reviews</th>\n",
              "      <th>reviews_per_month</th>\n",
              "      <th>host_listing</th>\n",
              "      <th>availability</th>\n",
              "    </tr>\n",
              "  </thead>\n",
              "  <tbody>\n",
              "    <tr>\n",
              "      <th>0</th>\n",
              "      <td>5728806</td>\n",
              "      <td>Large private room in Nolita</td>\n",
              "      <td>Nat</td>\n",
              "      <td>Manhattan</td>\n",
              "      <td>Nolita</td>\n",
              "      <td>40.72217</td>\n",
              "      <td>-73.99481</td>\n",
              "      <td>Private room</td>\n",
              "      <td>120</td>\n",
              "      <td>7</td>\n",
              "      <td>3</td>\n",
              "      <td>0.06</td>\n",
              "      <td>3</td>\n",
              "      <td>0</td>\n",
              "    </tr>\n",
              "    <tr>\n",
              "      <th>1</th>\n",
              "      <td>2243769</td>\n",
              "      <td>Super Bowl New York City Apartment</td>\n",
              "      <td>Brian</td>\n",
              "      <td>Manhattan</td>\n",
              "      <td>Upper West Side</td>\n",
              "      <td>40.80020</td>\n",
              "      <td>-73.96045</td>\n",
              "      <td>Entire home/apt</td>\n",
              "      <td>1500</td>\n",
              "      <td>1</td>\n",
              "      <td>0</td>\n",
              "      <td>NaN</td>\n",
              "      <td>1</td>\n",
              "      <td>0</td>\n",
              "    </tr>\n",
              "    <tr>\n",
              "      <th>4</th>\n",
              "      <td>3780951</td>\n",
              "      <td>Charming Harlem apartment</td>\n",
              "      <td>Gina</td>\n",
              "      <td>Manhattan</td>\n",
              "      <td>Harlem</td>\n",
              "      <td>40.81022</td>\n",
              "      <td>-73.94266</td>\n",
              "      <td>Shared room</td>\n",
              "      <td>115</td>\n",
              "      <td>1</td>\n",
              "      <td>16</td>\n",
              "      <td>0.27</td>\n",
              "      <td>1</td>\n",
              "      <td>365</td>\n",
              "    </tr>\n",
              "    <tr>\n",
              "      <th>5</th>\n",
              "      <td>9944426</td>\n",
              "      <td>Lower Manhattan Luxury</td>\n",
              "      <td>Dax</td>\n",
              "      <td>Manhattan</td>\n",
              "      <td>Battery Park City</td>\n",
              "      <td>40.71192</td>\n",
              "      <td>-74.01572</td>\n",
              "      <td>Entire home/apt</td>\n",
              "      <td>225</td>\n",
              "      <td>90</td>\n",
              "      <td>1</td>\n",
              "      <td>0.02</td>\n",
              "      <td>1</td>\n",
              "      <td>362</td>\n",
              "    </tr>\n",
              "    <tr>\n",
              "      <th>8</th>\n",
              "      <td>17174519</td>\n",
              "      <td>Chelsea Brownstone 3 Bedroom House</td>\n",
              "      <td>Wade</td>\n",
              "      <td>Manhattan</td>\n",
              "      <td>Chelsea</td>\n",
              "      <td>40.74443</td>\n",
              "      <td>-74.00012</td>\n",
              "      <td>Entire home/apt</td>\n",
              "      <td>650</td>\n",
              "      <td>3</td>\n",
              "      <td>35</td>\n",
              "      <td>1.61</td>\n",
              "      <td>2</td>\n",
              "      <td>179</td>\n",
              "    </tr>\n",
              "    <tr>\n",
              "      <th>...</th>\n",
              "      <td>...</td>\n",
              "      <td>...</td>\n",
              "      <td>...</td>\n",
              "      <td>...</td>\n",
              "      <td>...</td>\n",
              "      <td>...</td>\n",
              "      <td>...</td>\n",
              "      <td>...</td>\n",
              "      <td>...</td>\n",
              "      <td>...</td>\n",
              "      <td>...</td>\n",
              "      <td>...</td>\n",
              "      <td>...</td>\n",
              "      <td>...</td>\n",
              "    </tr>\n",
              "    <tr>\n",
              "      <th>34217</th>\n",
              "      <td>15085833</td>\n",
              "      <td>Brand New 1 Bedroom NYC Apartment &amp; Outside Space</td>\n",
              "      <td>Bryan</td>\n",
              "      <td>Manhattan</td>\n",
              "      <td>Harlem</td>\n",
              "      <td>40.80466</td>\n",
              "      <td>-73.95582</td>\n",
              "      <td>Entire home/apt</td>\n",
              "      <td>399</td>\n",
              "      <td>3</td>\n",
              "      <td>1</td>\n",
              "      <td>0.03</td>\n",
              "      <td>1</td>\n",
              "      <td>364</td>\n",
              "    </tr>\n",
              "    <tr>\n",
              "      <th>34218</th>\n",
              "      <td>13124637</td>\n",
              "      <td>Private BR in a 2 BR Central Park West</td>\n",
              "      <td>Vanessa</td>\n",
              "      <td>Manhattan</td>\n",
              "      <td>Upper West Side</td>\n",
              "      <td>40.79613</td>\n",
              "      <td>-73.96658</td>\n",
              "      <td>Private room</td>\n",
              "      <td>60</td>\n",
              "      <td>2</td>\n",
              "      <td>23</td>\n",
              "      <td>0.62</td>\n",
              "      <td>1</td>\n",
              "      <td>0</td>\n",
              "    </tr>\n",
              "    <tr>\n",
              "      <th>34219</th>\n",
              "      <td>33993225</td>\n",
              "      <td>Private small room in 3 bdr apt - East Village</td>\n",
              "      <td>Alexandre</td>\n",
              "      <td>Manhattan</td>\n",
              "      <td>East Village</td>\n",
              "      <td>40.72613</td>\n",
              "      <td>-73.98447</td>\n",
              "      <td>Private room</td>\n",
              "      <td>99</td>\n",
              "      <td>1</td>\n",
              "      <td>9</td>\n",
              "      <td>3.42</td>\n",
              "      <td>5</td>\n",
              "      <td>30</td>\n",
              "    </tr>\n",
              "    <tr>\n",
              "      <th>34222</th>\n",
              "      <td>8438775</td>\n",
              "      <td>Private BR &amp; Bath near Central Park</td>\n",
              "      <td>Gabi</td>\n",
              "      <td>Manhattan</td>\n",
              "      <td>Upper West Side</td>\n",
              "      <td>40.77697</td>\n",
              "      <td>-73.97698</td>\n",
              "      <td>Private room</td>\n",
              "      <td>137</td>\n",
              "      <td>1</td>\n",
              "      <td>163</td>\n",
              "      <td>3.55</td>\n",
              "      <td>1</td>\n",
              "      <td>32</td>\n",
              "    </tr>\n",
              "    <tr>\n",
              "      <th>34223</th>\n",
              "      <td>27332770</td>\n",
              "      <td>Warm Home w/ Private Garden (Inwood Manhattan ...</td>\n",
              "      <td>Mary</td>\n",
              "      <td>Manhattan</td>\n",
              "      <td>Inwood</td>\n",
              "      <td>40.86912</td>\n",
              "      <td>-73.92183</td>\n",
              "      <td>Entire home/apt</td>\n",
              "      <td>195</td>\n",
              "      <td>2</td>\n",
              "      <td>6</td>\n",
              "      <td>0.53</td>\n",
              "      <td>1</td>\n",
              "      <td>0</td>\n",
              "    </tr>\n",
              "  </tbody>\n",
              "</table>\n",
              "<p>15193 rows × 14 columns</p>\n",
              "</div>"
            ],
            "text/plain": [
              "             id  ... availability\n",
              "0       5728806  ...            0\n",
              "1       2243769  ...            0\n",
              "4       3780951  ...          365\n",
              "5       9944426  ...          362\n",
              "8      17174519  ...          179\n",
              "...         ...  ...          ...\n",
              "34217  15085833  ...          364\n",
              "34218  13124637  ...            0\n",
              "34219  33993225  ...           30\n",
              "34222   8438775  ...           32\n",
              "34223  27332770  ...            0\n",
              "\n",
              "[15193 rows x 14 columns]"
            ]
          },
          "metadata": {
            "tags": []
          },
          "execution_count": 20
        }
      ]
    },
    {
      "cell_type": "code",
      "metadata": {
        "colab": {
          "base_uri": "https://localhost:8080/",
          "height": 558
        },
        "id": "iSSJXfSFshYk",
        "outputId": "6bc85b72-5e04-4f42-dcf6-c1e800a89ac5"
      },
      "source": [
        "#Conditional filtering - View houses from Manhattan whose price is 1500 \n",
        "df[(df['neighbourhood_group'] == 'Manhattan') & (df['price'] == 1500) & (df['minimum_nights'] == 1)]"
      ],
      "execution_count": 21,
      "outputs": [
        {
          "output_type": "execute_result",
          "data": {
            "text/html": [
              "<div>\n",
              "<style scoped>\n",
              "    .dataframe tbody tr th:only-of-type {\n",
              "        vertical-align: middle;\n",
              "    }\n",
              "\n",
              "    .dataframe tbody tr th {\n",
              "        vertical-align: top;\n",
              "    }\n",
              "\n",
              "    .dataframe thead th {\n",
              "        text-align: right;\n",
              "    }\n",
              "</style>\n",
              "<table border=\"1\" class=\"dataframe\">\n",
              "  <thead>\n",
              "    <tr style=\"text-align: right;\">\n",
              "      <th></th>\n",
              "      <th>id</th>\n",
              "      <th>name</th>\n",
              "      <th>host_name</th>\n",
              "      <th>neighbourhood_group</th>\n",
              "      <th>neighbourhood</th>\n",
              "      <th>latitude</th>\n",
              "      <th>longitude</th>\n",
              "      <th>room_type</th>\n",
              "      <th>price</th>\n",
              "      <th>minimum_nights</th>\n",
              "      <th>number_of_reviews</th>\n",
              "      <th>reviews_per_month</th>\n",
              "      <th>host_listing</th>\n",
              "      <th>availability</th>\n",
              "    </tr>\n",
              "  </thead>\n",
              "  <tbody>\n",
              "    <tr>\n",
              "      <th>1</th>\n",
              "      <td>2243769</td>\n",
              "      <td>Super Bowl New York City Apartment</td>\n",
              "      <td>Brian</td>\n",
              "      <td>Manhattan</td>\n",
              "      <td>Upper West Side</td>\n",
              "      <td>40.80020</td>\n",
              "      <td>-73.96045</td>\n",
              "      <td>Entire home/apt</td>\n",
              "      <td>1500</td>\n",
              "      <td>1</td>\n",
              "      <td>0</td>\n",
              "      <td>NaN</td>\n",
              "      <td>1</td>\n",
              "      <td>0</td>\n",
              "    </tr>\n",
              "    <tr>\n",
              "      <th>3776</th>\n",
              "      <td>29486682</td>\n",
              "      <td>Loft Space with Incredible Windows</td>\n",
              "      <td>Greg</td>\n",
              "      <td>Manhattan</td>\n",
              "      <td>Chinatown</td>\n",
              "      <td>40.71722</td>\n",
              "      <td>-74.00293</td>\n",
              "      <td>Entire home/apt</td>\n",
              "      <td>1500</td>\n",
              "      <td>1</td>\n",
              "      <td>0</td>\n",
              "      <td>NaN</td>\n",
              "      <td>1</td>\n",
              "      <td>365</td>\n",
              "    </tr>\n",
              "    <tr>\n",
              "      <th>6914</th>\n",
              "      <td>1989838</td>\n",
              "      <td>Luxury 4 BD NYC Times Sq Apartment</td>\n",
              "      <td>Patrick</td>\n",
              "      <td>Manhattan</td>\n",
              "      <td>Midtown</td>\n",
              "      <td>40.76316</td>\n",
              "      <td>-73.98109</td>\n",
              "      <td>Entire home/apt</td>\n",
              "      <td>1500</td>\n",
              "      <td>1</td>\n",
              "      <td>0</td>\n",
              "      <td>NaN</td>\n",
              "      <td>1</td>\n",
              "      <td>0</td>\n",
              "    </tr>\n",
              "    <tr>\n",
              "      <th>26307</th>\n",
              "      <td>22795221</td>\n",
              "      <td>Gorgeous natural light in Chelsea photo studio</td>\n",
              "      <td>Kevin</td>\n",
              "      <td>Manhattan</td>\n",
              "      <td>Chelsea</td>\n",
              "      <td>40.75021</td>\n",
              "      <td>-74.00479</td>\n",
              "      <td>Entire home/apt</td>\n",
              "      <td>1500</td>\n",
              "      <td>1</td>\n",
              "      <td>0</td>\n",
              "      <td>NaN</td>\n",
              "      <td>6</td>\n",
              "      <td>0</td>\n",
              "    </tr>\n",
              "    <tr>\n",
              "      <th>26867</th>\n",
              "      <td>2276065</td>\n",
              "      <td>PERFECT SUPERBOWL STAY</td>\n",
              "      <td>Shaunna</td>\n",
              "      <td>Manhattan</td>\n",
              "      <td>Midtown</td>\n",
              "      <td>40.75225</td>\n",
              "      <td>-73.98725</td>\n",
              "      <td>Entire home/apt</td>\n",
              "      <td>1500</td>\n",
              "      <td>1</td>\n",
              "      <td>0</td>\n",
              "      <td>NaN</td>\n",
              "      <td>1</td>\n",
              "      <td>0</td>\n",
              "    </tr>\n",
              "    <tr>\n",
              "      <th>30769</th>\n",
              "      <td>7603640</td>\n",
              "      <td>Brand new in the heart of Tribeca</td>\n",
              "      <td>Benjamin</td>\n",
              "      <td>Manhattan</td>\n",
              "      <td>Tribeca</td>\n",
              "      <td>40.71978</td>\n",
              "      <td>-74.00968</td>\n",
              "      <td>Private room</td>\n",
              "      <td>1500</td>\n",
              "      <td>1</td>\n",
              "      <td>0</td>\n",
              "      <td>NaN</td>\n",
              "      <td>1</td>\n",
              "      <td>365</td>\n",
              "    </tr>\n",
              "    <tr>\n",
              "      <th>33690</th>\n",
              "      <td>2217398</td>\n",
              "      <td>226 E 29th St, NY - Super Bowl</td>\n",
              "      <td>Andrew</td>\n",
              "      <td>Manhattan</td>\n",
              "      <td>Kips Bay</td>\n",
              "      <td>40.74262</td>\n",
              "      <td>-73.97945</td>\n",
              "      <td>Entire home/apt</td>\n",
              "      <td>1500</td>\n",
              "      <td>1</td>\n",
              "      <td>0</td>\n",
              "      <td>NaN</td>\n",
              "      <td>1</td>\n",
              "      <td>0</td>\n",
              "    </tr>\n",
              "  </tbody>\n",
              "</table>\n",
              "</div>"
            ],
            "text/plain": [
              "             id  ... availability\n",
              "1       2243769  ...            0\n",
              "3776   29486682  ...          365\n",
              "6914    1989838  ...            0\n",
              "26307  22795221  ...            0\n",
              "26867   2276065  ...            0\n",
              "30769   7603640  ...          365\n",
              "33690   2217398  ...            0\n",
              "\n",
              "[7 rows x 14 columns]"
            ]
          },
          "metadata": {
            "tags": []
          },
          "execution_count": 21
        }
      ]
    },
    {
      "cell_type": "code",
      "metadata": {
        "colab": {
          "base_uri": "https://localhost:8080/",
          "height": 391
        },
        "id": "1qvo-Ibisqd0",
        "outputId": "d2faa5d2-5181-40cd-93ac-5022ff12051d"
      },
      "source": [
        "#Apply function - to change 'Entire home/apt' to 'Entire home'\n",
        "df['room_type'] = df['room_type'].apply(lambda x: x.strip('/apt'))\n",
        "df.head(6)"
      ],
      "execution_count": 22,
      "outputs": [
        {
          "output_type": "execute_result",
          "data": {
            "text/html": [
              "<div>\n",
              "<style scoped>\n",
              "    .dataframe tbody tr th:only-of-type {\n",
              "        vertical-align: middle;\n",
              "    }\n",
              "\n",
              "    .dataframe tbody tr th {\n",
              "        vertical-align: top;\n",
              "    }\n",
              "\n",
              "    .dataframe thead th {\n",
              "        text-align: right;\n",
              "    }\n",
              "</style>\n",
              "<table border=\"1\" class=\"dataframe\">\n",
              "  <thead>\n",
              "    <tr style=\"text-align: right;\">\n",
              "      <th></th>\n",
              "      <th>id</th>\n",
              "      <th>name</th>\n",
              "      <th>host_name</th>\n",
              "      <th>neighbourhood_group</th>\n",
              "      <th>neighbourhood</th>\n",
              "      <th>latitude</th>\n",
              "      <th>longitude</th>\n",
              "      <th>room_type</th>\n",
              "      <th>price</th>\n",
              "      <th>minimum_nights</th>\n",
              "      <th>number_of_reviews</th>\n",
              "      <th>reviews_per_month</th>\n",
              "      <th>host_listing</th>\n",
              "      <th>availability</th>\n",
              "    </tr>\n",
              "  </thead>\n",
              "  <tbody>\n",
              "    <tr>\n",
              "      <th>0</th>\n",
              "      <td>5728806</td>\n",
              "      <td>Large private room in Nolita</td>\n",
              "      <td>Nat</td>\n",
              "      <td>Manhattan</td>\n",
              "      <td>Nolita</td>\n",
              "      <td>40.72217</td>\n",
              "      <td>-73.99481</td>\n",
              "      <td>Private room</td>\n",
              "      <td>120</td>\n",
              "      <td>7</td>\n",
              "      <td>3</td>\n",
              "      <td>0.06</td>\n",
              "      <td>3</td>\n",
              "      <td>0</td>\n",
              "    </tr>\n",
              "    <tr>\n",
              "      <th>1</th>\n",
              "      <td>2243769</td>\n",
              "      <td>Super Bowl New York City Apartment</td>\n",
              "      <td>Brian</td>\n",
              "      <td>Manhattan</td>\n",
              "      <td>Upper West Side</td>\n",
              "      <td>40.80020</td>\n",
              "      <td>-73.96045</td>\n",
              "      <td>Entire home</td>\n",
              "      <td>1500</td>\n",
              "      <td>1</td>\n",
              "      <td>0</td>\n",
              "      <td>NaN</td>\n",
              "      <td>1</td>\n",
              "      <td>0</td>\n",
              "    </tr>\n",
              "    <tr>\n",
              "      <th>2</th>\n",
              "      <td>35515415</td>\n",
              "      <td>COZY APT CLOSE TO LGA &amp; JFK AND TRANSPORTATION</td>\n",
              "      <td>Jenny</td>\n",
              "      <td>Queens</td>\n",
              "      <td>East Elmhurst</td>\n",
              "      <td>40.75558</td>\n",
              "      <td>-73.89316</td>\n",
              "      <td>Entire home</td>\n",
              "      <td>200</td>\n",
              "      <td>2</td>\n",
              "      <td>4</td>\n",
              "      <td>4.00</td>\n",
              "      <td>1</td>\n",
              "      <td>365</td>\n",
              "    </tr>\n",
              "    <tr>\n",
              "      <th>3</th>\n",
              "      <td>36202006</td>\n",
              "      <td>Stream-Pressed Paradise (Laundry Room Setup)</td>\n",
              "      <td>Rita</td>\n",
              "      <td>Staten Island</td>\n",
              "      <td>Concord</td>\n",
              "      <td>40.60110</td>\n",
              "      <td>-74.07830</td>\n",
              "      <td>Shared room</td>\n",
              "      <td>30</td>\n",
              "      <td>2</td>\n",
              "      <td>0</td>\n",
              "      <td>NaN</td>\n",
              "      <td>4</td>\n",
              "      <td>82</td>\n",
              "    </tr>\n",
              "    <tr>\n",
              "      <th>4</th>\n",
              "      <td>3780951</td>\n",
              "      <td>Charming Harlem apartment</td>\n",
              "      <td>Gina</td>\n",
              "      <td>Manhattan</td>\n",
              "      <td>Harlem</td>\n",
              "      <td>40.81022</td>\n",
              "      <td>-73.94266</td>\n",
              "      <td>Shared room</td>\n",
              "      <td>115</td>\n",
              "      <td>1</td>\n",
              "      <td>16</td>\n",
              "      <td>0.27</td>\n",
              "      <td>1</td>\n",
              "      <td>365</td>\n",
              "    </tr>\n",
              "    <tr>\n",
              "      <th>5</th>\n",
              "      <td>9944426</td>\n",
              "      <td>Lower Manhattan Luxury</td>\n",
              "      <td>Dax</td>\n",
              "      <td>Manhattan</td>\n",
              "      <td>Battery Park City</td>\n",
              "      <td>40.71192</td>\n",
              "      <td>-74.01572</td>\n",
              "      <td>Entire home</td>\n",
              "      <td>225</td>\n",
              "      <td>90</td>\n",
              "      <td>1</td>\n",
              "      <td>0.02</td>\n",
              "      <td>1</td>\n",
              "      <td>362</td>\n",
              "    </tr>\n",
              "  </tbody>\n",
              "</table>\n",
              "</div>"
            ],
            "text/plain": [
              "         id  ... availability\n",
              "0   5728806  ...            0\n",
              "1   2243769  ...            0\n",
              "2  35515415  ...          365\n",
              "3  36202006  ...           82\n",
              "4   3780951  ...          365\n",
              "5   9944426  ...          362\n",
              "\n",
              "[6 rows x 14 columns]"
            ]
          },
          "metadata": {
            "tags": []
          },
          "execution_count": 22
        }
      ]
    },
    {
      "cell_type": "code",
      "metadata": {
        "colab": {
          "base_uri": "https://localhost:8080/",
          "height": 230
        },
        "id": "5zRpZbPqHVLh",
        "outputId": "e09cc89e-892b-4f43-d4a5-8002c568beb8"
      },
      "source": [
        "#Checking our changes made\n",
        "df.head(3)"
      ],
      "execution_count": null,
      "outputs": [
        {
          "output_type": "execute_result",
          "data": {
            "text/html": [
              "<div>\n",
              "<style scoped>\n",
              "    .dataframe tbody tr th:only-of-type {\n",
              "        vertical-align: middle;\n",
              "    }\n",
              "\n",
              "    .dataframe tbody tr th {\n",
              "        vertical-align: top;\n",
              "    }\n",
              "\n",
              "    .dataframe thead th {\n",
              "        text-align: right;\n",
              "    }\n",
              "</style>\n",
              "<table border=\"1\" class=\"dataframe\">\n",
              "  <thead>\n",
              "    <tr style=\"text-align: right;\">\n",
              "      <th></th>\n",
              "      <th>id</th>\n",
              "      <th>name</th>\n",
              "      <th>host_name</th>\n",
              "      <th>neighbourhood_group</th>\n",
              "      <th>neighbourhood</th>\n",
              "      <th>latitude</th>\n",
              "      <th>longitude</th>\n",
              "      <th>room_type</th>\n",
              "      <th>price</th>\n",
              "      <th>minimum_nights</th>\n",
              "      <th>number_of_reviews</th>\n",
              "      <th>reviews_per_month</th>\n",
              "      <th>host_listing</th>\n",
              "      <th>availability</th>\n",
              "    </tr>\n",
              "  </thead>\n",
              "  <tbody>\n",
              "    <tr>\n",
              "      <th>0</th>\n",
              "      <td>5728806</td>\n",
              "      <td>Large private room in Nolita</td>\n",
              "      <td>Nat</td>\n",
              "      <td>Manhattan</td>\n",
              "      <td>Nolita</td>\n",
              "      <td>40.72217</td>\n",
              "      <td>-73.99481</td>\n",
              "      <td>Private room</td>\n",
              "      <td>120</td>\n",
              "      <td>7</td>\n",
              "      <td>3</td>\n",
              "      <td>0.06</td>\n",
              "      <td>3</td>\n",
              "      <td>0</td>\n",
              "    </tr>\n",
              "    <tr>\n",
              "      <th>1</th>\n",
              "      <td>2243769</td>\n",
              "      <td>Super Bowl New York City Apartment</td>\n",
              "      <td>Brian</td>\n",
              "      <td>Manhattan</td>\n",
              "      <td>Upper West Side</td>\n",
              "      <td>40.80020</td>\n",
              "      <td>-73.96045</td>\n",
              "      <td>Entire home</td>\n",
              "      <td>1500</td>\n",
              "      <td>1</td>\n",
              "      <td>0</td>\n",
              "      <td>NaN</td>\n",
              "      <td>1</td>\n",
              "      <td>0</td>\n",
              "    </tr>\n",
              "    <tr>\n",
              "      <th>2</th>\n",
              "      <td>35515415</td>\n",
              "      <td>COZY APT CLOSE TO LGA &amp; JFK AND TRANSPORTATION</td>\n",
              "      <td>Jenny</td>\n",
              "      <td>Queens</td>\n",
              "      <td>East Elmhurst</td>\n",
              "      <td>40.75558</td>\n",
              "      <td>-73.89316</td>\n",
              "      <td>Entire home</td>\n",
              "      <td>200</td>\n",
              "      <td>2</td>\n",
              "      <td>4</td>\n",
              "      <td>4.00</td>\n",
              "      <td>1</td>\n",
              "      <td>365</td>\n",
              "    </tr>\n",
              "  </tbody>\n",
              "</table>\n",
              "</div>"
            ],
            "text/plain": [
              "         id  ... availability\n",
              "0   5728806  ...            0\n",
              "1   2243769  ...            0\n",
              "2  35515415  ...          365\n",
              "\n",
              "[3 rows x 14 columns]"
            ]
          },
          "metadata": {
            "tags": []
          },
          "execution_count": 24
        }
      ]
    },
    {
      "cell_type": "code",
      "metadata": {
        "colab": {
          "base_uri": "https://localhost:8080/",
          "height": 235
        },
        "id": "MFe6svv_HjGm",
        "outputId": "efa19aee-9e97-4ca5-9787-3f3e0708559f"
      },
      "source": [
        "#Groupby function - to find the mean prices for each neighbourhood group\n",
        "df.groupby('neighbourhood_group')[['price']].mean().sort_values(by='price', ascending = True)"
      ],
      "execution_count": 23,
      "outputs": [
        {
          "output_type": "execute_result",
          "data": {
            "text/html": [
              "<div>\n",
              "<style scoped>\n",
              "    .dataframe tbody tr th:only-of-type {\n",
              "        vertical-align: middle;\n",
              "    }\n",
              "\n",
              "    .dataframe tbody tr th {\n",
              "        vertical-align: top;\n",
              "    }\n",
              "\n",
              "    .dataframe thead th {\n",
              "        text-align: right;\n",
              "    }\n",
              "</style>\n",
              "<table border=\"1\" class=\"dataframe\">\n",
              "  <thead>\n",
              "    <tr style=\"text-align: right;\">\n",
              "      <th></th>\n",
              "      <th>price</th>\n",
              "    </tr>\n",
              "    <tr>\n",
              "      <th>neighbourhood_group</th>\n",
              "      <th></th>\n",
              "    </tr>\n",
              "  </thead>\n",
              "  <tbody>\n",
              "    <tr>\n",
              "      <th>Bronx</th>\n",
              "      <td>88.146023</td>\n",
              "    </tr>\n",
              "    <tr>\n",
              "      <th>Queens</th>\n",
              "      <td>98.661731</td>\n",
              "    </tr>\n",
              "    <tr>\n",
              "      <th>Staten Island</th>\n",
              "      <td>118.491935</td>\n",
              "    </tr>\n",
              "    <tr>\n",
              "      <th>Brooklyn</th>\n",
              "      <td>125.868880</td>\n",
              "    </tr>\n",
              "    <tr>\n",
              "      <th>Manhattan</th>\n",
              "      <td>197.233002</td>\n",
              "    </tr>\n",
              "  </tbody>\n",
              "</table>\n",
              "</div>"
            ],
            "text/plain": [
              "                          price\n",
              "neighbourhood_group            \n",
              "Bronx                 88.146023\n",
              "Queens                98.661731\n",
              "Staten Island        118.491935\n",
              "Brooklyn             125.868880\n",
              "Manhattan            197.233002"
            ]
          },
          "metadata": {
            "tags": []
          },
          "execution_count": 23
        }
      ]
    },
    {
      "cell_type": "code",
      "metadata": {
        "colab": {
          "base_uri": "https://localhost:8080/",
          "height": 343
        },
        "id": "AGTXb5DeH8Sh",
        "outputId": "68124371-9398-43b4-bbdd-4a5a55ca21c0"
      },
      "source": [
        "df.head()\n"
      ],
      "execution_count": 24,
      "outputs": [
        {
          "output_type": "execute_result",
          "data": {
            "text/html": [
              "<div>\n",
              "<style scoped>\n",
              "    .dataframe tbody tr th:only-of-type {\n",
              "        vertical-align: middle;\n",
              "    }\n",
              "\n",
              "    .dataframe tbody tr th {\n",
              "        vertical-align: top;\n",
              "    }\n",
              "\n",
              "    .dataframe thead th {\n",
              "        text-align: right;\n",
              "    }\n",
              "</style>\n",
              "<table border=\"1\" class=\"dataframe\">\n",
              "  <thead>\n",
              "    <tr style=\"text-align: right;\">\n",
              "      <th></th>\n",
              "      <th>id</th>\n",
              "      <th>name</th>\n",
              "      <th>host_name</th>\n",
              "      <th>neighbourhood_group</th>\n",
              "      <th>neighbourhood</th>\n",
              "      <th>latitude</th>\n",
              "      <th>longitude</th>\n",
              "      <th>room_type</th>\n",
              "      <th>price</th>\n",
              "      <th>minimum_nights</th>\n",
              "      <th>number_of_reviews</th>\n",
              "      <th>reviews_per_month</th>\n",
              "      <th>host_listing</th>\n",
              "      <th>availability</th>\n",
              "    </tr>\n",
              "  </thead>\n",
              "  <tbody>\n",
              "    <tr>\n",
              "      <th>0</th>\n",
              "      <td>5728806</td>\n",
              "      <td>Large private room in Nolita</td>\n",
              "      <td>Nat</td>\n",
              "      <td>Manhattan</td>\n",
              "      <td>Nolita</td>\n",
              "      <td>40.72217</td>\n",
              "      <td>-73.99481</td>\n",
              "      <td>Private room</td>\n",
              "      <td>120</td>\n",
              "      <td>7</td>\n",
              "      <td>3</td>\n",
              "      <td>0.06</td>\n",
              "      <td>3</td>\n",
              "      <td>0</td>\n",
              "    </tr>\n",
              "    <tr>\n",
              "      <th>1</th>\n",
              "      <td>2243769</td>\n",
              "      <td>Super Bowl New York City Apartment</td>\n",
              "      <td>Brian</td>\n",
              "      <td>Manhattan</td>\n",
              "      <td>Upper West Side</td>\n",
              "      <td>40.80020</td>\n",
              "      <td>-73.96045</td>\n",
              "      <td>Entire home</td>\n",
              "      <td>1500</td>\n",
              "      <td>1</td>\n",
              "      <td>0</td>\n",
              "      <td>NaN</td>\n",
              "      <td>1</td>\n",
              "      <td>0</td>\n",
              "    </tr>\n",
              "    <tr>\n",
              "      <th>2</th>\n",
              "      <td>35515415</td>\n",
              "      <td>COZY APT CLOSE TO LGA &amp; JFK AND TRANSPORTATION</td>\n",
              "      <td>Jenny</td>\n",
              "      <td>Queens</td>\n",
              "      <td>East Elmhurst</td>\n",
              "      <td>40.75558</td>\n",
              "      <td>-73.89316</td>\n",
              "      <td>Entire home</td>\n",
              "      <td>200</td>\n",
              "      <td>2</td>\n",
              "      <td>4</td>\n",
              "      <td>4.00</td>\n",
              "      <td>1</td>\n",
              "      <td>365</td>\n",
              "    </tr>\n",
              "    <tr>\n",
              "      <th>3</th>\n",
              "      <td>36202006</td>\n",
              "      <td>Stream-Pressed Paradise (Laundry Room Setup)</td>\n",
              "      <td>Rita</td>\n",
              "      <td>Staten Island</td>\n",
              "      <td>Concord</td>\n",
              "      <td>40.60110</td>\n",
              "      <td>-74.07830</td>\n",
              "      <td>Shared room</td>\n",
              "      <td>30</td>\n",
              "      <td>2</td>\n",
              "      <td>0</td>\n",
              "      <td>NaN</td>\n",
              "      <td>4</td>\n",
              "      <td>82</td>\n",
              "    </tr>\n",
              "    <tr>\n",
              "      <th>4</th>\n",
              "      <td>3780951</td>\n",
              "      <td>Charming Harlem apartment</td>\n",
              "      <td>Gina</td>\n",
              "      <td>Manhattan</td>\n",
              "      <td>Harlem</td>\n",
              "      <td>40.81022</td>\n",
              "      <td>-73.94266</td>\n",
              "      <td>Shared room</td>\n",
              "      <td>115</td>\n",
              "      <td>1</td>\n",
              "      <td>16</td>\n",
              "      <td>0.27</td>\n",
              "      <td>1</td>\n",
              "      <td>365</td>\n",
              "    </tr>\n",
              "  </tbody>\n",
              "</table>\n",
              "</div>"
            ],
            "text/plain": [
              "         id  ... availability\n",
              "0   5728806  ...            0\n",
              "1   2243769  ...            0\n",
              "2  35515415  ...          365\n",
              "3  36202006  ...           82\n",
              "4   3780951  ...          365\n",
              "\n",
              "[5 rows x 14 columns]"
            ]
          },
          "metadata": {
            "tags": []
          },
          "execution_count": 24
        }
      ]
    },
    {
      "cell_type": "markdown",
      "metadata": {
        "id": "6AHJNSY-Ihgz"
      },
      "source": [
        "UNIVARIATE ANALYSIS \n",
        "1 How are houses distributed in different neighbourhood groups?\n",
        "2 Which room type is listed the most?\n",
        "3 How is price distributed throughout the dataset?\n",
        "4 availability distribution\n",
        "\n",
        "BIVARIATE ANALYSIS \n",
        "1 Price VS minimum_nights\n",
        "2 neighbourhood_group and room_type\n",
        "3 latitude and Longitude\n"
      ]
    },
    {
      "cell_type": "code",
      "metadata": {
        "id": "UwsFaaZtJe2s"
      },
      "source": [
        "import matplotlib.pyplot as plt\n",
        "import seaborn as sns\n",
        "%matplotlib inline   "
      ],
      "execution_count": 25,
      "outputs": []
    },
    {
      "cell_type": "code",
      "metadata": {
        "id": "pIDXIjc3KECD",
        "colab": {
          "base_uri": "https://localhost:8080/",
          "height": 335
        },
        "outputId": "e13ca037-762e-4268-b51f-6830369c83f2"
      },
      "source": [
        "#plotting distribution of dataset based on neighbourhood_group\n",
        "plt.figure(figsize = (5,5))\n",
        "sns.countplot(x=\"neighbourhood_group\", data=df)\n",
        "plt.show()"
      ],
      "execution_count": 26,
      "outputs": [
        {
          "output_type": "display_data",
          "data": {
            "image/png": "[encoded data removed]",
            "text/plain": [
              "<Figure size 360x360 with 1 Axes>"
            ]
          },
          "metadata": {
            "tags": [],
            "needs_background": "light"
          }
        }
      ]
    },
    {
      "cell_type": "code",
      "metadata": {
        "colab": {
          "base_uri": "https://localhost:8080/",
          "height": 497
        },
        "id": "Dd8uEJi3VskF",
        "outputId": "c15fe21d-4828-422c-81a0-27483555f28c"
      },
      "source": [
        "#Plotting distribution of the dataset based on room_type\n",
        "plt.figure(figsize = (8,8))\n",
        "sns.countplot(x='room_type', data=df)\n",
        "plt.show()"
      ],
      "execution_count": 27,
      "outputs": [
        {
          "output_type": "display_data",
          "data": {
            "image/png": "[encoded data removed]",
            "text/plain": [
              "<Figure size 576x576 with 1 Axes>"
            ]
          },
          "metadata": {
            "tags": [],
            "needs_background": "light"
          }
        }
      ]
    },
    {
      "cell_type": "code",
      "metadata": {
        "colab": {
          "base_uri": "https://localhost:8080/",
          "height": 411
        },
        "id": "UO7ichcIV3aF",
        "outputId": "e0a7911c-b184-4731-ba23-821da9397cdc"
      },
      "source": [
        "#pie chart for the same\n",
        "fig1, ax1 = plt.subplots(figsize = (7,7))\n",
        "ax1.pie(df['room_type'].value_counts(),labels = df['room_type'].unique(), autopct='%1.1f%%',\n",
        "        shadow=True, startangle=180)\n",
        "plt.show()"
      ],
      "execution_count": 28,
      "outputs": [
        {
          "output_type": "display_data",
          "data": {
            "image/png": "[encoded data removed]",
            "text/plain": [
              "<Figure size 504x504 with 1 Axes>"
            ]
          },
          "metadata": {
            "tags": []
          }
        }
      ]
    },
    {
      "cell_type": "code",
      "metadata": {
        "id": "lfDc1GxdWO4x",
        "colab": {
          "base_uri": "https://localhost:8080/",
          "height": 391
        },
        "outputId": "31986f66-49dc-49c1-a7e0-bfa0dd405262"
      },
      "source": [
        "#Price distribution\n",
        "plt.figure(figsize=(6,6))\n",
        "plt.hist(df['price'], bins = 100)\n",
        "plt.xlabel('price')\n",
        "plt.show()"
      ],
      "execution_count": 29,
      "outputs": [
        {
          "output_type": "display_data",
          "data": {
            "image/png": "[encoded data removed]",
            "text/plain": [
              "<Figure size 432x432 with 1 Axes>"
            ]
          },
          "metadata": {
            "tags": [],
            "needs_background": "light"
          }
        }
      ]
    },
    {
      "cell_type": "code",
      "metadata": {
        "id": "KEPUkFya4ac9",
        "colab": {
          "base_uri": "https://localhost:8080/",
          "height": 388
        },
        "outputId": "e621ecd0-9ce9-4b18-e06d-abe65b2a99ed"
      },
      "source": [
        "#Plotting a histogram for availability_365 column\n",
        "plt.figure(figsize=(6,6))\n",
        "plt.hist(df['availability'])\n",
        "plt.xlabel('availability')\n",
        "plt.ylabel('Count')\n",
        "plt.show()"
      ],
      "execution_count": 30,
      "outputs": [
        {
          "output_type": "display_data",
          "data": {
            "image/png": "[encoded data removed]",
            "text/plain": [
              "<Figure size 432x432 with 1 Axes>"
            ]
          },
          "metadata": {
            "tags": [],
            "needs_background": "light"
          }
        }
      ]
    },
    {
      "cell_type": "markdown",
      "metadata": {
        "id": "MOo0EW45u13x"
      },
      "source": [
        "Bivariate Analysis"
      ]
    },
    {
      "cell_type": "code",
      "metadata": {
        "id": "W7K3uCIkPHkO",
        "colab": {
          "base_uri": "https://localhost:8080/",
          "height": 280
        },
        "outputId": "2e2ef2f6-4d80-4fbe-b848-333bc2748dd8"
      },
      "source": [
        "#price VS minimum_nights\n",
        "df.plot.scatter(y = 'price', x = 'minimum_nights' )\n",
        "plt.show()"
      ],
      "execution_count": 31,
      "outputs": [
        {
          "output_type": "display_data",
          "data": {
            "image/png": "[encoded data removed]",
            "text/plain": [
              "<Figure size 432x288 with 1 Axes>"
            ]
          },
          "metadata": {
            "tags": [],
            "needs_background": "light"
          }
        }
      ]
    },
    {
      "cell_type": "code",
      "metadata": {
        "colab": {
          "base_uri": "https://localhost:8080/",
          "height": 498
        },
        "id": "Qs1CioBQv9Wq",
        "outputId": "21d84a04-fbfa-4597-ad9f-63ed8e7cf077"
      },
      "source": [
        "#Plotting distribution of the dataset based on neighbourhood_group and room_type\n",
        "plt.figure(figsize = (8,8))\n",
        "sns.countplot(x=\"neighbourhood_group\",hue = 'room_type', data=df)\n",
        "plt.show()"
      ],
      "execution_count": 33,
      "outputs": [
        {
          "output_type": "display_data",
          "data": {
            "image/png": "[encoded data removed]",
            "text/plain": [
              "<Figure size 576x576 with 1 Axes>"
            ]
          },
          "metadata": {
            "tags": [],
            "needs_background": "light"
          }
        }
      ]
    },
    {
      "cell_type": "code",
      "metadata": {
        "colab": {
          "base_uri": "https://localhost:8080/",
          "height": 475
        },
        "id": "byPN4ArDwSwv",
        "outputId": "923fd39b-640c-4498-bb25-6c78c0ab1b04"
      },
      "source": [
        "#Checking the location of neighbourhood_group\n",
        "title = 'Neighbourhood Group Location'\n",
        "plt.figure(figsize=(10,6))\n",
        "sns.scatterplot(df.longitude,df.latitude,hue=df.neighbourhood_group).set_title(title)"
      ],
      "execution_count": 34,
      "outputs": [
        {
          "output_type": "stream",
          "text": [
            "/usr/local/lib/python3.7/dist-packages/seaborn/_decorators.py:43: FutureWarning: Pass the following variables as keyword args: x, y. From version 0.12, the only valid positional argument will be `data`, and passing other arguments without an explicit keyword will result in an error or misinterpretation.\n",
            "  FutureWarning\n"
          ],
          "name": "stderr"
        },
        {
          "output_type": "execute_result",
          "data": {
            "text/plain": [
              "Text(0.5, 1.0, 'Neighbourhood Group Location')"
            ]
          },
          "metadata": {
            "tags": []
          },
          "execution_count": 34
        },
        {
          "output_type": "display_data",
          "data": {
            "image/png": "[encoded data removed]",
            "text/plain": [
              "<Figure size 720x432 with 1 Axes>"
            ]
          },
          "metadata": {
            "tags": [],
            "needs_background": "light"
          }
        }
      ]
    },
    {
      "cell_type": "markdown",
      "metadata": {
        "id": "LSziDDrMweuj"
      },
      "source": [
        "Data Cleaning\n",
        "1 price column consists of outliers\n",
        "2 replace reviews_per_month null values with 0\n",
        "3 outliers in availability\n",
        "4 minimum_nights outliers\n",
        "5 one_hot_encoding\n"
      ]
    },
    {
      "cell_type": "code",
      "metadata": {
        "colab": {
          "base_uri": "https://localhost:8080/",
          "height": 444
        },
        "id": "uSyc3U1uwzh8",
        "outputId": "f47f460c-a3d5-402a-a08b-cec3435d19f8"
      },
      "source": [
        "#boxplot for checking the price distribution\n",
        "plt.figure(figsize = (30,10))\n",
        "plt.boxplot(df['price'], vert = False)\n",
        "plt.ylabel('Price')\n",
        "plt.xlabel('Dollars')\n",
        "plt.show()"
      ],
      "execution_count": 35,
      "outputs": [
        {
          "output_type": "display_data",
          "data": {
            "image/png": "[encoded data removed]",
            "text/plain": [
              "<Figure size 2160x720 with 1 Axes>"
            ]
          },
          "metadata": {
            "tags": [],
            "needs_background": "light"
          }
        }
      ]
    },
    {
      "cell_type": "code",
      "metadata": {
        "colab": {
          "base_uri": "https://localhost:8080/",
          "height": 668
        },
        "id": "x5KL_9caxLdx",
        "outputId": "d512740f-5bc8-4f04-ff27-0696fefb4ed0"
      },
      "source": [
        "#Dropping rows with #high price\n",
        "df.drop(df[df['price']>6000].index, inplace = True)\n",
        "df.sort_values(['price'], ascending = False, axis = 0).head(10)"
      ],
      "execution_count": 37,
      "outputs": [
        {
          "output_type": "execute_result",
          "data": {
            "text/html": [
              "<div>\n",
              "<style scoped>\n",
              "    .dataframe tbody tr th:only-of-type {\n",
              "        vertical-align: middle;\n",
              "    }\n",
              "\n",
              "    .dataframe tbody tr th {\n",
              "        vertical-align: top;\n",
              "    }\n",
              "\n",
              "    .dataframe thead th {\n",
              "        text-align: right;\n",
              "    }\n",
              "</style>\n",
              "<table border=\"1\" class=\"dataframe\">\n",
              "  <thead>\n",
              "    <tr style=\"text-align: right;\">\n",
              "      <th></th>\n",
              "      <th>id</th>\n",
              "      <th>name</th>\n",
              "      <th>host_name</th>\n",
              "      <th>neighbourhood_group</th>\n",
              "      <th>neighbourhood</th>\n",
              "      <th>latitude</th>\n",
              "      <th>longitude</th>\n",
              "      <th>room_type</th>\n",
              "      <th>price</th>\n",
              "      <th>minimum_nights</th>\n",
              "      <th>number_of_reviews</th>\n",
              "      <th>reviews_per_month</th>\n",
              "      <th>host_listing</th>\n",
              "      <th>availability</th>\n",
              "    </tr>\n",
              "  </thead>\n",
              "  <tbody>\n",
              "    <tr>\n",
              "      <th>11576</th>\n",
              "      <td>12520066</td>\n",
              "      <td>Luxury townhouse Greenwich Village</td>\n",
              "      <td>Linda</td>\n",
              "      <td>Manhattan</td>\n",
              "      <td>Greenwich Village</td>\n",
              "      <td>40.73046</td>\n",
              "      <td>-73.99562</td>\n",
              "      <td>Entire home</td>\n",
              "      <td>6000</td>\n",
              "      <td>1</td>\n",
              "      <td>0</td>\n",
              "      <td>NaN</td>\n",
              "      <td>1</td>\n",
              "      <td>0</td>\n",
              "    </tr>\n",
              "    <tr>\n",
              "      <th>4969</th>\n",
              "      <td>2110145</td>\n",
              "      <td>UWS 1BR w/backyard + block from CP</td>\n",
              "      <td>Jay And Liz</td>\n",
              "      <td>Manhattan</td>\n",
              "      <td>Upper West Side</td>\n",
              "      <td>40.77782</td>\n",
              "      <td>-73.97848</td>\n",
              "      <td>Entire home</td>\n",
              "      <td>6000</td>\n",
              "      <td>14</td>\n",
              "      <td>17</td>\n",
              "      <td>0.27</td>\n",
              "      <td>1</td>\n",
              "      <td>359</td>\n",
              "    </tr>\n",
              "    <tr>\n",
              "      <th>31865</th>\n",
              "      <td>2243699</td>\n",
              "      <td>SuperBowl Penthouse Loft 3,000 sqft</td>\n",
              "      <td>Omri</td>\n",
              "      <td>Manhattan</td>\n",
              "      <td>Little Italy</td>\n",
              "      <td>40.71895</td>\n",
              "      <td>-73.99793</td>\n",
              "      <td>Entire home</td>\n",
              "      <td>5250</td>\n",
              "      <td>1</td>\n",
              "      <td>0</td>\n",
              "      <td>NaN</td>\n",
              "      <td>1</td>\n",
              "      <td>0</td>\n",
              "    </tr>\n",
              "    <tr>\n",
              "      <th>6868</th>\n",
              "      <td>33397385</td>\n",
              "      <td>Midtown Manhattan great location (Gramacy park)</td>\n",
              "      <td>Debra</td>\n",
              "      <td>Manhattan</td>\n",
              "      <td>Midtown</td>\n",
              "      <td>40.74482</td>\n",
              "      <td>-73.98367</td>\n",
              "      <td>Entire home</td>\n",
              "      <td>5100</td>\n",
              "      <td>30</td>\n",
              "      <td>1</td>\n",
              "      <td>1.00</td>\n",
              "      <td>2</td>\n",
              "      <td>343</td>\n",
              "    </tr>\n",
              "    <tr>\n",
              "      <th>14648</th>\n",
              "      <td>21238053</td>\n",
              "      <td>Broadway 1</td>\n",
              "      <td>Sarah-B</td>\n",
              "      <td>Brooklyn</td>\n",
              "      <td>Bedford-Stuyvesant</td>\n",
              "      <td>40.68742</td>\n",
              "      <td>-73.91957</td>\n",
              "      <td>Entire home</td>\n",
              "      <td>5000</td>\n",
              "      <td>2</td>\n",
              "      <td>8</td>\n",
              "      <td>0.38</td>\n",
              "      <td>1</td>\n",
              "      <td>0</td>\n",
              "    </tr>\n",
              "    <tr>\n",
              "      <th>14314</th>\n",
              "      <td>18051877</td>\n",
              "      <td>Victorian Film location</td>\n",
              "      <td>Alissa</td>\n",
              "      <td>Staten Island</td>\n",
              "      <td>Randall Manor</td>\n",
              "      <td>40.63952</td>\n",
              "      <td>-74.09730</td>\n",
              "      <td>Entire home</td>\n",
              "      <td>5000</td>\n",
              "      <td>1</td>\n",
              "      <td>0</td>\n",
              "      <td>NaN</td>\n",
              "      <td>1</td>\n",
              "      <td>344</td>\n",
              "    </tr>\n",
              "    <tr>\n",
              "      <th>28944</th>\n",
              "      <td>2919330</td>\n",
              "      <td>NearWilliamsburg bridge 11211 BK</td>\n",
              "      <td>Bianca</td>\n",
              "      <td>Brooklyn</td>\n",
              "      <td>Bedford-Stuyvesant</td>\n",
              "      <td>40.69572</td>\n",
              "      <td>-73.95731</td>\n",
              "      <td>Private room</td>\n",
              "      <td>5000</td>\n",
              "      <td>6</td>\n",
              "      <td>10</td>\n",
              "      <td>0.16</td>\n",
              "      <td>1</td>\n",
              "      <td>363</td>\n",
              "    </tr>\n",
              "    <tr>\n",
              "      <th>24593</th>\n",
              "      <td>20654227</td>\n",
              "      <td>Fulton 2</td>\n",
              "      <td>Sarah-2</td>\n",
              "      <td>Brooklyn</td>\n",
              "      <td>Cypress Hills</td>\n",
              "      <td>40.68185</td>\n",
              "      <td>-73.88128</td>\n",
              "      <td>Entire home</td>\n",
              "      <td>5000</td>\n",
              "      <td>2</td>\n",
              "      <td>4</td>\n",
              "      <td>0.18</td>\n",
              "      <td>1</td>\n",
              "      <td>0</td>\n",
              "    </tr>\n",
              "    <tr>\n",
              "      <th>15704</th>\n",
              "      <td>35345358</td>\n",
              "      <td>Northside Williamsburg Stunner</td>\n",
              "      <td>Alex</td>\n",
              "      <td>Brooklyn</td>\n",
              "      <td>Williamsburg</td>\n",
              "      <td>40.71705</td>\n",
              "      <td>-73.96470</td>\n",
              "      <td>Entire home</td>\n",
              "      <td>4500</td>\n",
              "      <td>30</td>\n",
              "      <td>0</td>\n",
              "      <td>NaN</td>\n",
              "      <td>1</td>\n",
              "      <td>365</td>\n",
              "    </tr>\n",
              "    <tr>\n",
              "      <th>6600</th>\n",
              "      <td>2952861</td>\n",
              "      <td>Photography Location</td>\n",
              "      <td>Jessica</td>\n",
              "      <td>Brooklyn</td>\n",
              "      <td>Clinton Hill</td>\n",
              "      <td>40.69127</td>\n",
              "      <td>-73.96563</td>\n",
              "      <td>Entire home</td>\n",
              "      <td>4500</td>\n",
              "      <td>1</td>\n",
              "      <td>5</td>\n",
              "      <td>0.09</td>\n",
              "      <td>11</td>\n",
              "      <td>365</td>\n",
              "    </tr>\n",
              "  </tbody>\n",
              "</table>\n",
              "</div>"
            ],
            "text/plain": [
              "             id  ... availability\n",
              "11576  12520066  ...            0\n",
              "4969    2110145  ...          359\n",
              "31865   2243699  ...            0\n",
              "6868   33397385  ...          343\n",
              "14648  21238053  ...            0\n",
              "14314  18051877  ...          344\n",
              "28944   2919330  ...          363\n",
              "24593  20654227  ...            0\n",
              "15704  35345358  ...          365\n",
              "6600    2952861  ...          365\n",
              "\n",
              "[10 rows x 14 columns]"
            ]
          },
          "metadata": {
            "tags": []
          },
          "execution_count": 37
        }
      ]
    },
    {
      "cell_type": "code",
      "metadata": {
        "colab": {
          "base_uri": "https://localhost:8080/",
          "height": 479
        },
        "id": "SpM3Nh0cxXFq",
        "outputId": "011c4766-f2b2-4ead-b04b-928fea5796f5"
      },
      "source": [
        "#Dropping rows with min price i.e. 0\n",
        "df.drop(df[df['price']==0].index, inplace = True)\n",
        "df.sort_values(['price'], ascending = True, axis = 0).head(5)"
      ],
      "execution_count": 38,
      "outputs": [
        {
          "output_type": "execute_result",
          "data": {
            "text/html": [
              "<div>\n",
              "<style scoped>\n",
              "    .dataframe tbody tr th:only-of-type {\n",
              "        vertical-align: middle;\n",
              "    }\n",
              "\n",
              "    .dataframe tbody tr th {\n",
              "        vertical-align: top;\n",
              "    }\n",
              "\n",
              "    .dataframe thead th {\n",
              "        text-align: right;\n",
              "    }\n",
              "</style>\n",
              "<table border=\"1\" class=\"dataframe\">\n",
              "  <thead>\n",
              "    <tr style=\"text-align: right;\">\n",
              "      <th></th>\n",
              "      <th>id</th>\n",
              "      <th>name</th>\n",
              "      <th>host_name</th>\n",
              "      <th>neighbourhood_group</th>\n",
              "      <th>neighbourhood</th>\n",
              "      <th>latitude</th>\n",
              "      <th>longitude</th>\n",
              "      <th>room_type</th>\n",
              "      <th>price</th>\n",
              "      <th>minimum_nights</th>\n",
              "      <th>number_of_reviews</th>\n",
              "      <th>reviews_per_month</th>\n",
              "      <th>host_listing</th>\n",
              "      <th>availability</th>\n",
              "    </tr>\n",
              "  </thead>\n",
              "  <tbody>\n",
              "    <tr>\n",
              "      <th>4546</th>\n",
              "      <td>26496645</td>\n",
              "      <td>Room with a view</td>\n",
              "      <td>Martin</td>\n",
              "      <td>Brooklyn</td>\n",
              "      <td>Williamsburg</td>\n",
              "      <td>40.70959</td>\n",
              "      <td>-73.95693</td>\n",
              "      <td>Private room</td>\n",
              "      <td>10</td>\n",
              "      <td>1</td>\n",
              "      <td>0</td>\n",
              "      <td>NaN</td>\n",
              "      <td>1</td>\n",
              "      <td>83</td>\n",
              "    </tr>\n",
              "    <tr>\n",
              "      <th>5582</th>\n",
              "      <td>17979764</td>\n",
              "      <td>Jen Apt</td>\n",
              "      <td>Jennifer</td>\n",
              "      <td>Manhattan</td>\n",
              "      <td>SoHo</td>\n",
              "      <td>40.72237</td>\n",
              "      <td>-73.99817</td>\n",
              "      <td>Private room</td>\n",
              "      <td>10</td>\n",
              "      <td>5</td>\n",
              "      <td>2</td>\n",
              "      <td>0.07</td>\n",
              "      <td>1</td>\n",
              "      <td>0</td>\n",
              "    </tr>\n",
              "    <tr>\n",
              "      <th>23016</th>\n",
              "      <td>25839759</td>\n",
              "      <td>Gigantic Sunny Room in Park Slope-Private Back...</td>\n",
              "      <td>Rachel</td>\n",
              "      <td>Brooklyn</td>\n",
              "      <td>Sunset Park</td>\n",
              "      <td>40.66242</td>\n",
              "      <td>-73.99464</td>\n",
              "      <td>Entire home</td>\n",
              "      <td>10</td>\n",
              "      <td>1</td>\n",
              "      <td>14</td>\n",
              "      <td>1.06</td>\n",
              "      <td>1</td>\n",
              "      <td>4</td>\n",
              "    </tr>\n",
              "    <tr>\n",
              "      <th>13778</th>\n",
              "      <td>28071998</td>\n",
              "      <td>Cozy room in a three-bedroom House</td>\n",
              "      <td>Arthur</td>\n",
              "      <td>Queens</td>\n",
              "      <td>Woodhaven</td>\n",
              "      <td>40.69139</td>\n",
              "      <td>-73.86086</td>\n",
              "      <td>Private room</td>\n",
              "      <td>10</td>\n",
              "      <td>7</td>\n",
              "      <td>4</td>\n",
              "      <td>0.41</td>\n",
              "      <td>2</td>\n",
              "      <td>180</td>\n",
              "    </tr>\n",
              "    <tr>\n",
              "      <th>26499</th>\n",
              "      <td>35642891</td>\n",
              "      <td>Beautiful room in Bushwick</td>\n",
              "      <td>Julio</td>\n",
              "      <td>Brooklyn</td>\n",
              "      <td>Bushwick</td>\n",
              "      <td>40.69640</td>\n",
              "      <td>-73.91898</td>\n",
              "      <td>Private room</td>\n",
              "      <td>10</td>\n",
              "      <td>1</td>\n",
              "      <td>2</td>\n",
              "      <td>2.00</td>\n",
              "      <td>1</td>\n",
              "      <td>0</td>\n",
              "    </tr>\n",
              "  </tbody>\n",
              "</table>\n",
              "</div>"
            ],
            "text/plain": [
              "             id  ... availability\n",
              "4546   26496645  ...           83\n",
              "5582   17979764  ...            0\n",
              "23016  25839759  ...            4\n",
              "13778  28071998  ...          180\n",
              "26499  35642891  ...            0\n",
              "\n",
              "[5 rows x 14 columns]"
            ]
          },
          "metadata": {
            "tags": []
          },
          "execution_count": 38
        }
      ]
    },
    {
      "cell_type": "code",
      "metadata": {
        "colab": {
          "base_uri": "https://localhost:8080/",
          "height": 444
        },
        "id": "GUOZoGG1xc5_",
        "outputId": "3ebb2b2b-3df8-4272-89ac-0900a9bdd6ab"
      },
      "source": [
        "#boxplot for checking minimum_nights\n",
        "plt.figure(figsize = (30,10))\n",
        "plt.boxplot(df['minimum_nights'], vert = False)\n",
        "plt.ylabel('Minimum Nights')\n",
        "plt.xlabel('Number')\n",
        "plt.show()"
      ],
      "execution_count": 39,
      "outputs": [
        {
          "output_type": "display_data",
          "data": {
            "image/png": "[encoded data removed]",
            "text/plain": [
              "<Figure size 2160x720 with 1 Axes>"
            ]
          },
          "metadata": {
            "tags": [],
            "needs_background": "light"
          }
        }
      ]
    },
    {
      "cell_type": "code",
      "metadata": {
        "colab": {
          "base_uri": "https://localhost:8080/",
          "height": 428
        },
        "id": "VA0KGbuuxkIm",
        "outputId": "cd3e1eeb-7aa2-4538-bbb8-df097b4d5549"
      },
      "source": [
        "#dropping rows with minimum_nights > 800\n",
        "df.drop(df[df['minimum_nights']>800].index, inplace = True)\n",
        "df.sort_values('minimum_nights', ascending = False)[:5]"
      ],
      "execution_count": 40,
      "outputs": [
        {
          "output_type": "execute_result",
          "data": {
            "text/html": [
              "<div>\n",
              "<style scoped>\n",
              "    .dataframe tbody tr th:only-of-type {\n",
              "        vertical-align: middle;\n",
              "    }\n",
              "\n",
              "    .dataframe tbody tr th {\n",
              "        vertical-align: top;\n",
              "    }\n",
              "\n",
              "    .dataframe thead th {\n",
              "        text-align: right;\n",
              "    }\n",
              "</style>\n",
              "<table border=\"1\" class=\"dataframe\">\n",
              "  <thead>\n",
              "    <tr style=\"text-align: right;\">\n",
              "      <th></th>\n",
              "      <th>id</th>\n",
              "      <th>name</th>\n",
              "      <th>host_name</th>\n",
              "      <th>neighbourhood_group</th>\n",
              "      <th>neighbourhood</th>\n",
              "      <th>latitude</th>\n",
              "      <th>longitude</th>\n",
              "      <th>room_type</th>\n",
              "      <th>price</th>\n",
              "      <th>minimum_nights</th>\n",
              "      <th>number_of_reviews</th>\n",
              "      <th>reviews_per_month</th>\n",
              "      <th>host_listing</th>\n",
              "      <th>availability</th>\n",
              "    </tr>\n",
              "  </thead>\n",
              "  <tbody>\n",
              "    <tr>\n",
              "      <th>6184</th>\n",
              "      <td>6169897</td>\n",
              "      <td>Wonderful Large 1 bedroom</td>\n",
              "      <td>John</td>\n",
              "      <td>Manhattan</td>\n",
              "      <td>Harlem</td>\n",
              "      <td>40.82135</td>\n",
              "      <td>-73.95521</td>\n",
              "      <td>Entire home</td>\n",
              "      <td>75</td>\n",
              "      <td>500</td>\n",
              "      <td>0</td>\n",
              "      <td>NaN</td>\n",
              "      <td>1</td>\n",
              "      <td>362</td>\n",
              "    </tr>\n",
              "    <tr>\n",
              "      <th>19816</th>\n",
              "      <td>8668115</td>\n",
              "      <td>Zen Room in Crown Heights Brooklyn</td>\n",
              "      <td>Laura</td>\n",
              "      <td>Brooklyn</td>\n",
              "      <td>Crown Heights</td>\n",
              "      <td>40.67255</td>\n",
              "      <td>-73.94914</td>\n",
              "      <td>Private room</td>\n",
              "      <td>50</td>\n",
              "      <td>500</td>\n",
              "      <td>10</td>\n",
              "      <td>0.22</td>\n",
              "      <td>1</td>\n",
              "      <td>365</td>\n",
              "    </tr>\n",
              "    <tr>\n",
              "      <th>17336</th>\n",
              "      <td>35834935</td>\n",
              "      <td>Williamsburg Apartment</td>\n",
              "      <td>Meg</td>\n",
              "      <td>Brooklyn</td>\n",
              "      <td>Williamsburg</td>\n",
              "      <td>40.70898</td>\n",
              "      <td>-73.94885</td>\n",
              "      <td>Entire home</td>\n",
              "      <td>140</td>\n",
              "      <td>500</td>\n",
              "      <td>0</td>\n",
              "      <td>NaN</td>\n",
              "      <td>1</td>\n",
              "      <td>331</td>\n",
              "    </tr>\n",
              "    <tr>\n",
              "      <th>6743</th>\n",
              "      <td>568684</td>\n",
              "      <td>800sqft apartment with huge terrace</td>\n",
              "      <td>Alessandra</td>\n",
              "      <td>Brooklyn</td>\n",
              "      <td>Bushwick</td>\n",
              "      <td>40.70202</td>\n",
              "      <td>-73.92402</td>\n",
              "      <td>Entire home</td>\n",
              "      <td>115</td>\n",
              "      <td>370</td>\n",
              "      <td>6</td>\n",
              "      <td>0.09</td>\n",
              "      <td>1</td>\n",
              "      <td>365</td>\n",
              "    </tr>\n",
              "    <tr>\n",
              "      <th>14568</th>\n",
              "      <td>12888849</td>\n",
              "      <td>Bright Luxury Studio, Central Loc.</td>\n",
              "      <td>Sarah</td>\n",
              "      <td>Manhattan</td>\n",
              "      <td>Midtown</td>\n",
              "      <td>40.74513</td>\n",
              "      <td>-73.98475</td>\n",
              "      <td>Entire home</td>\n",
              "      <td>250</td>\n",
              "      <td>366</td>\n",
              "      <td>0</td>\n",
              "      <td>NaN</td>\n",
              "      <td>1</td>\n",
              "      <td>365</td>\n",
              "    </tr>\n",
              "  </tbody>\n",
              "</table>\n",
              "</div>"
            ],
            "text/plain": [
              "             id  ... availability\n",
              "6184    6169897  ...          362\n",
              "19816   8668115  ...          365\n",
              "17336  35834935  ...          331\n",
              "6743     568684  ...          365\n",
              "14568  12888849  ...          365\n",
              "\n",
              "[5 rows x 14 columns]"
            ]
          },
          "metadata": {
            "tags": []
          },
          "execution_count": 40
        }
      ]
    },
    {
      "cell_type": "code",
      "metadata": {
        "colab": {
          "base_uri": "https://localhost:8080/"
        },
        "id": "_ND4JKwNx1R5",
        "outputId": "ba01ac08-d6d6-43ac-e330-c586b970807b"
      },
      "source": [
        "#percent#age of null values\n",
        "(df.isnull().sum()/len(df))*100"
      ],
      "execution_count": 44,
      "outputs": [
        {
          "output_type": "execute_result",
          "data": {
            "text/plain": [
              "id                     0.000000\n",
              "name                   0.032162\n",
              "host_name              0.038009\n",
              "neighbourhood_group    0.000000\n",
              "neighbourhood          0.000000\n",
              "latitude               0.000000\n",
              "longitude              0.000000\n",
              "room_type              0.000000\n",
              "price                  0.000000\n",
              "minimum_nights         0.000000\n",
              "number_of_reviews      0.000000\n",
              "reviews_per_month      0.000000\n",
              "host_listing           0.000000\n",
              "availability           0.000000\n",
              "dtype: float64"
            ]
          },
          "metadata": {
            "tags": []
          },
          "execution_count": 44
        }
      ]
    },
    {
      "cell_type": "code",
      "metadata": {
        "id": "PlTibDjjx8MD"
      },
      "source": [
        "#Replacing null values with 0\n",
        "df[\"reviews_per_month\"] = df[\"reviews_per_month\"].fillna(0)"
      ],
      "execution_count": 43,
      "outputs": []
    },
    {
      "cell_type": "code",
      "metadata": {
        "colab": {
          "base_uri": "https://localhost:8080/"
        },
        "id": "Uba1YdcqyFN6",
        "outputId": "462afd66-1b5a-49ab-d79d-2ec6f0652c60"
      },
      "source": [
        "#availability outliers\n",
        "df[df['availability']==0].count()"
      ],
      "execution_count": 45,
      "outputs": [
        {
          "output_type": "execute_result",
          "data": {
            "text/plain": [
              "id                     12252\n",
              "name                   12244\n",
              "host_name              12244\n",
              "neighbourhood_group    12252\n",
              "neighbourhood          12252\n",
              "latitude               12252\n",
              "longitude              12252\n",
              "room_type              12252\n",
              "price                  12252\n",
              "minimum_nights         12252\n",
              "number_of_reviews      12252\n",
              "reviews_per_month      12252\n",
              "host_listing           12252\n",
              "availability           12252\n",
              "dtype: int64"
            ]
          },
          "metadata": {
            "tags": []
          },
          "execution_count": 45
        }
      ]
    },
    {
      "cell_type": "markdown",
      "metadata": {
        "id": "Z5IGjv1kyPex"
      },
      "source": [
        "We will lose valuable information if we drop rows with 0 availability\n"
      ]
    },
    {
      "cell_type": "code",
      "metadata": {
        "colab": {
          "base_uri": "https://localhost:8080/"
        },
        "id": "8MEEhrvpyRGN",
        "outputId": "7c7c5e1a-72d5-4e0a-bb12-172b26427a10"
      },
      "source": [
        "df.dtypes"
      ],
      "execution_count": 46,
      "outputs": [
        {
          "output_type": "execute_result",
          "data": {
            "text/plain": [
              "id                       int64\n",
              "name                    object\n",
              "host_name               object\n",
              "neighbourhood_group     object\n",
              "neighbourhood           object\n",
              "latitude               float64\n",
              "longitude              float64\n",
              "room_type               object\n",
              "price                    int64\n",
              "minimum_nights           int64\n",
              "number_of_reviews        int64\n",
              "reviews_per_month      float64\n",
              "host_listing             int64\n",
              "availability             int64\n",
              "dtype: object"
            ]
          },
          "metadata": {
            "tags": []
          },
          "execution_count": 46
        }
      ]
    },
    {
      "cell_type": "markdown",
      "metadata": {
        "id": "ViIvIcLFyaVO"
      },
      "source": [
        "Categorical columns to be encoded\n",
        "\n",
        "1neighbourhood_group\n",
        "2 neighbourhood\n",
        "3 room_type"
      ]
    },
    {
      "cell_type": "code",
      "metadata": {
        "id": "b232afEgynaV"
      },
      "source": [
        "#neighbourhood_group encoding\n",
        "group_dummies =pd.get_dummies(df['neighbourhood_group'])\n",
        "df = pd.concat([df,group_dummies], axis = 'columns')"
      ],
      "execution_count": 47,
      "outputs": []
    },
    {
      "cell_type": "code",
      "metadata": {
        "colab": {
          "base_uri": "https://localhost:8080/",
          "height": 360
        },
        "id": "B8Sy4zsqybu2",
        "outputId": "25d355a3-de69-4eda-b676-4f6739b2536a"
      },
      "source": [
        "df.head()"
      ],
      "execution_count": 48,
      "outputs": [
        {
          "output_type": "execute_result",
          "data": {
            "text/html": [
              "<div>\n",
              "<style scoped>\n",
              "    .dataframe tbody tr th:only-of-type {\n",
              "        vertical-align: middle;\n",
              "    }\n",
              "\n",
              "    .dataframe tbody tr th {\n",
              "        vertical-align: top;\n",
              "    }\n",
              "\n",
              "    .dataframe thead th {\n",
              "        text-align: right;\n",
              "    }\n",
              "</style>\n",
              "<table border=\"1\" class=\"dataframe\">\n",
              "  <thead>\n",
              "    <tr style=\"text-align: right;\">\n",
              "      <th></th>\n",
              "      <th>id</th>\n",
              "      <th>name</th>\n",
              "      <th>host_name</th>\n",
              "      <th>neighbourhood_group</th>\n",
              "      <th>neighbourhood</th>\n",
              "      <th>latitude</th>\n",
              "      <th>longitude</th>\n",
              "      <th>room_type</th>\n",
              "      <th>price</th>\n",
              "      <th>minimum_nights</th>\n",
              "      <th>number_of_reviews</th>\n",
              "      <th>reviews_per_month</th>\n",
              "      <th>host_listing</th>\n",
              "      <th>availability</th>\n",
              "      <th>Bronx</th>\n",
              "      <th>Brooklyn</th>\n",
              "      <th>Manhattan</th>\n",
              "      <th>Queens</th>\n",
              "      <th>Staten Island</th>\n",
              "    </tr>\n",
              "  </thead>\n",
              "  <tbody>\n",
              "    <tr>\n",
              "      <th>0</th>\n",
              "      <td>5728806</td>\n",
              "      <td>Large private room in Nolita</td>\n",
              "      <td>Nat</td>\n",
              "      <td>Manhattan</td>\n",
              "      <td>Nolita</td>\n",
              "      <td>40.72217</td>\n",
              "      <td>-73.99481</td>\n",
              "      <td>Private room</td>\n",
              "      <td>120</td>\n",
              "      <td>7</td>\n",
              "      <td>3</td>\n",
              "      <td>0.06</td>\n",
              "      <td>3</td>\n",
              "      <td>0</td>\n",
              "      <td>0</td>\n",
              "      <td>0</td>\n",
              "      <td>1</td>\n",
              "      <td>0</td>\n",
              "      <td>0</td>\n",
              "    </tr>\n",
              "    <tr>\n",
              "      <th>1</th>\n",
              "      <td>2243769</td>\n",
              "      <td>Super Bowl New York City Apartment</td>\n",
              "      <td>Brian</td>\n",
              "      <td>Manhattan</td>\n",
              "      <td>Upper West Side</td>\n",
              "      <td>40.80020</td>\n",
              "      <td>-73.96045</td>\n",
              "      <td>Entire home</td>\n",
              "      <td>1500</td>\n",
              "      <td>1</td>\n",
              "      <td>0</td>\n",
              "      <td>0.00</td>\n",
              "      <td>1</td>\n",
              "      <td>0</td>\n",
              "      <td>0</td>\n",
              "      <td>0</td>\n",
              "      <td>1</td>\n",
              "      <td>0</td>\n",
              "      <td>0</td>\n",
              "    </tr>\n",
              "    <tr>\n",
              "      <th>2</th>\n",
              "      <td>35515415</td>\n",
              "      <td>COZY APT CLOSE TO LGA &amp; JFK AND TRANSPORTATION</td>\n",
              "      <td>Jenny</td>\n",
              "      <td>Queens</td>\n",
              "      <td>East Elmhurst</td>\n",
              "      <td>40.75558</td>\n",
              "      <td>-73.89316</td>\n",
              "      <td>Entire home</td>\n",
              "      <td>200</td>\n",
              "      <td>2</td>\n",
              "      <td>4</td>\n",
              "      <td>4.00</td>\n",
              "      <td>1</td>\n",
              "      <td>365</td>\n",
              "      <td>0</td>\n",
              "      <td>0</td>\n",
              "      <td>0</td>\n",
              "      <td>1</td>\n",
              "      <td>0</td>\n",
              "    </tr>\n",
              "    <tr>\n",
              "      <th>3</th>\n",
              "      <td>36202006</td>\n",
              "      <td>Stream-Pressed Paradise (Laundry Room Setup)</td>\n",
              "      <td>Rita</td>\n",
              "      <td>Staten Island</td>\n",
              "      <td>Concord</td>\n",
              "      <td>40.60110</td>\n",
              "      <td>-74.07830</td>\n",
              "      <td>Shared room</td>\n",
              "      <td>30</td>\n",
              "      <td>2</td>\n",
              "      <td>0</td>\n",
              "      <td>0.00</td>\n",
              "      <td>4</td>\n",
              "      <td>82</td>\n",
              "      <td>0</td>\n",
              "      <td>0</td>\n",
              "      <td>0</td>\n",
              "      <td>0</td>\n",
              "      <td>1</td>\n",
              "    </tr>\n",
              "    <tr>\n",
              "      <th>4</th>\n",
              "      <td>3780951</td>\n",
              "      <td>Charming Harlem apartment</td>\n",
              "      <td>Gina</td>\n",
              "      <td>Manhattan</td>\n",
              "      <td>Harlem</td>\n",
              "      <td>40.81022</td>\n",
              "      <td>-73.94266</td>\n",
              "      <td>Shared room</td>\n",
              "      <td>115</td>\n",
              "      <td>1</td>\n",
              "      <td>16</td>\n",
              "      <td>0.27</td>\n",
              "      <td>1</td>\n",
              "      <td>365</td>\n",
              "      <td>0</td>\n",
              "      <td>0</td>\n",
              "      <td>1</td>\n",
              "      <td>0</td>\n",
              "      <td>0</td>\n",
              "    </tr>\n",
              "  </tbody>\n",
              "</table>\n",
              "</div>"
            ],
            "text/plain": [
              "         id  ... Staten Island\n",
              "0   5728806  ...             0\n",
              "1   2243769  ...             0\n",
              "2  35515415  ...             0\n",
              "3  36202006  ...             1\n",
              "4   3780951  ...             0\n",
              "\n",
              "[5 rows x 19 columns]"
            ]
          },
          "metadata": {
            "tags": []
          },
          "execution_count": 48
        }
      ]
    },
    {
      "cell_type": "code",
      "metadata": {
        "colab": {
          "base_uri": "https://localhost:8080/",
          "height": 360
        },
        "id": "1x5Hfp1oy6ET",
        "outputId": "6b7d0acd-725f-42fc-9bf9-bf7cb37cb7e5"
      },
      "source": [
        "#room_type encoding\n",
        "room_dummies =pd.get_dummies(df['room_type'])\n",
        "df = pd.concat([df,room_dummies], axis = 'columns')\n",
        "df.head()"
      ],
      "execution_count": 49,
      "outputs": [
        {
          "output_type": "execute_result",
          "data": {
            "text/html": [
              "<div>\n",
              "<style scoped>\n",
              "    .dataframe tbody tr th:only-of-type {\n",
              "        vertical-align: middle;\n",
              "    }\n",
              "\n",
              "    .dataframe tbody tr th {\n",
              "        vertical-align: top;\n",
              "    }\n",
              "\n",
              "    .dataframe thead th {\n",
              "        text-align: right;\n",
              "    }\n",
              "</style>\n",
              "<table border=\"1\" class=\"dataframe\">\n",
              "  <thead>\n",
              "    <tr style=\"text-align: right;\">\n",
              "      <th></th>\n",
              "      <th>id</th>\n",
              "      <th>name</th>\n",
              "      <th>host_name</th>\n",
              "      <th>neighbourhood_group</th>\n",
              "      <th>neighbourhood</th>\n",
              "      <th>latitude</th>\n",
              "      <th>longitude</th>\n",
              "      <th>room_type</th>\n",
              "      <th>price</th>\n",
              "      <th>minimum_nights</th>\n",
              "      <th>number_of_reviews</th>\n",
              "      <th>reviews_per_month</th>\n",
              "      <th>host_listing</th>\n",
              "      <th>availability</th>\n",
              "      <th>Bronx</th>\n",
              "      <th>Brooklyn</th>\n",
              "      <th>Manhattan</th>\n",
              "      <th>Queens</th>\n",
              "      <th>Staten Island</th>\n",
              "      <th>Entire home</th>\n",
              "      <th>Private room</th>\n",
              "      <th>Shared room</th>\n",
              "    </tr>\n",
              "  </thead>\n",
              "  <tbody>\n",
              "    <tr>\n",
              "      <th>0</th>\n",
              "      <td>5728806</td>\n",
              "      <td>Large private room in Nolita</td>\n",
              "      <td>Nat</td>\n",
              "      <td>Manhattan</td>\n",
              "      <td>Nolita</td>\n",
              "      <td>40.72217</td>\n",
              "      <td>-73.99481</td>\n",
              "      <td>Private room</td>\n",
              "      <td>120</td>\n",
              "      <td>7</td>\n",
              "      <td>3</td>\n",
              "      <td>0.06</td>\n",
              "      <td>3</td>\n",
              "      <td>0</td>\n",
              "      <td>0</td>\n",
              "      <td>0</td>\n",
              "      <td>1</td>\n",
              "      <td>0</td>\n",
              "      <td>0</td>\n",
              "      <td>0</td>\n",
              "      <td>1</td>\n",
              "      <td>0</td>\n",
              "    </tr>\n",
              "    <tr>\n",
              "      <th>1</th>\n",
              "      <td>2243769</td>\n",
              "      <td>Super Bowl New York City Apartment</td>\n",
              "      <td>Brian</td>\n",
              "      <td>Manhattan</td>\n",
              "      <td>Upper West Side</td>\n",
              "      <td>40.80020</td>\n",
              "      <td>-73.96045</td>\n",
              "      <td>Entire home</td>\n",
              "      <td>1500</td>\n",
              "      <td>1</td>\n",
              "      <td>0</td>\n",
              "      <td>0.00</td>\n",
              "      <td>1</td>\n",
              "      <td>0</td>\n",
              "      <td>0</td>\n",
              "      <td>0</td>\n",
              "      <td>1</td>\n",
              "      <td>0</td>\n",
              "      <td>0</td>\n",
              "      <td>1</td>\n",
              "      <td>0</td>\n",
              "      <td>0</td>\n",
              "    </tr>\n",
              "    <tr>\n",
              "      <th>2</th>\n",
              "      <td>35515415</td>\n",
              "      <td>COZY APT CLOSE TO LGA &amp; JFK AND TRANSPORTATION</td>\n",
              "      <td>Jenny</td>\n",
              "      <td>Queens</td>\n",
              "      <td>East Elmhurst</td>\n",
              "      <td>40.75558</td>\n",
              "      <td>-73.89316</td>\n",
              "      <td>Entire home</td>\n",
              "      <td>200</td>\n",
              "      <td>2</td>\n",
              "      <td>4</td>\n",
              "      <td>4.00</td>\n",
              "      <td>1</td>\n",
              "      <td>365</td>\n",
              "      <td>0</td>\n",
              "      <td>0</td>\n",
              "      <td>0</td>\n",
              "      <td>1</td>\n",
              "      <td>0</td>\n",
              "      <td>1</td>\n",
              "      <td>0</td>\n",
              "      <td>0</td>\n",
              "    </tr>\n",
              "    <tr>\n",
              "      <th>3</th>\n",
              "      <td>36202006</td>\n",
              "      <td>Stream-Pressed Paradise (Laundry Room Setup)</td>\n",
              "      <td>Rita</td>\n",
              "      <td>Staten Island</td>\n",
              "      <td>Concord</td>\n",
              "      <td>40.60110</td>\n",
              "      <td>-74.07830</td>\n",
              "      <td>Shared room</td>\n",
              "      <td>30</td>\n",
              "      <td>2</td>\n",
              "      <td>0</td>\n",
              "      <td>0.00</td>\n",
              "      <td>4</td>\n",
              "      <td>82</td>\n",
              "      <td>0</td>\n",
              "      <td>0</td>\n",
              "      <td>0</td>\n",
              "      <td>0</td>\n",
              "      <td>1</td>\n",
              "      <td>0</td>\n",
              "      <td>0</td>\n",
              "      <td>1</td>\n",
              "    </tr>\n",
              "    <tr>\n",
              "      <th>4</th>\n",
              "      <td>3780951</td>\n",
              "      <td>Charming Harlem apartment</td>\n",
              "      <td>Gina</td>\n",
              "      <td>Manhattan</td>\n",
              "      <td>Harlem</td>\n",
              "      <td>40.81022</td>\n",
              "      <td>-73.94266</td>\n",
              "      <td>Shared room</td>\n",
              "      <td>115</td>\n",
              "      <td>1</td>\n",
              "      <td>16</td>\n",
              "      <td>0.27</td>\n",
              "      <td>1</td>\n",
              "      <td>365</td>\n",
              "      <td>0</td>\n",
              "      <td>0</td>\n",
              "      <td>1</td>\n",
              "      <td>0</td>\n",
              "      <td>0</td>\n",
              "      <td>0</td>\n",
              "      <td>0</td>\n",
              "      <td>1</td>\n",
              "    </tr>\n",
              "  </tbody>\n",
              "</table>\n",
              "</div>"
            ],
            "text/plain": [
              "         id  ... Shared room\n",
              "0   5728806  ...           0\n",
              "1   2243769  ...           0\n",
              "2  35515415  ...           0\n",
              "3  36202006  ...           1\n",
              "4   3780951  ...           1\n",
              "\n",
              "[5 rows x 22 columns]"
            ]
          },
          "metadata": {
            "tags": []
          },
          "execution_count": 49
        }
      ]
    },
    {
      "cell_type": "code",
      "metadata": {
        "id": "rN6NOnoNzydA"
      },
      "source": [
        "df.drop('neighbourhood_group', axis = 1, inplace = True)"
      ],
      "execution_count": 58,
      "outputs": []
    },
    {
      "cell_type": "code",
      "metadata": {
        "id": "-G-yYBvr0BT1"
      },
      "source": [
        "df.drop('room_type', axis = 1, inplace = True)"
      ],
      "execution_count": 60,
      "outputs": []
    },
    {
      "cell_type": "code",
      "metadata": {
        "id": "GOYqt-7T0Fsm"
      },
      "source": [
        "df.drop('id', axis = 1, inplace = True)"
      ],
      "execution_count": 61,
      "outputs": []
    },
    {
      "cell_type": "code",
      "metadata": {
        "colab": {
          "base_uri": "https://localhost:8080/",
          "height": 456
        },
        "id": "-EF7tW5r0K3J",
        "outputId": "35e261f0-1fed-484e-8568-5d7586fb6d6a"
      },
      "source": [
        "df"
      ],
      "execution_count": 62,
      "outputs": [
        {
          "output_type": "execute_result",
          "data": {
            "text/html": [
              "<div>\n",
              "<style scoped>\n",
              "    .dataframe tbody tr th:only-of-type {\n",
              "        vertical-align: middle;\n",
              "    }\n",
              "\n",
              "    .dataframe tbody tr th {\n",
              "        vertical-align: top;\n",
              "    }\n",
              "\n",
              "    .dataframe thead th {\n",
              "        text-align: right;\n",
              "    }\n",
              "</style>\n",
              "<table border=\"1\" class=\"dataframe\">\n",
              "  <thead>\n",
              "    <tr style=\"text-align: right;\">\n",
              "      <th></th>\n",
              "      <th>latitude</th>\n",
              "      <th>longitude</th>\n",
              "      <th>price</th>\n",
              "      <th>minimum_nights</th>\n",
              "      <th>number_of_reviews</th>\n",
              "      <th>reviews_per_month</th>\n",
              "      <th>host_listing</th>\n",
              "      <th>availability</th>\n",
              "      <th>Bronx</th>\n",
              "      <th>Brooklyn</th>\n",
              "      <th>Manhattan</th>\n",
              "      <th>Queens</th>\n",
              "      <th>Staten Island</th>\n",
              "      <th>Entire home</th>\n",
              "      <th>Private room</th>\n",
              "      <th>Shared room</th>\n",
              "    </tr>\n",
              "  </thead>\n",
              "  <tbody>\n",
              "    <tr>\n",
              "      <th>0</th>\n",
              "      <td>40.72217</td>\n",
              "      <td>-73.99481</td>\n",
              "      <td>120</td>\n",
              "      <td>7</td>\n",
              "      <td>3</td>\n",
              "      <td>0.06</td>\n",
              "      <td>3</td>\n",
              "      <td>0</td>\n",
              "      <td>0</td>\n",
              "      <td>0</td>\n",
              "      <td>1</td>\n",
              "      <td>0</td>\n",
              "      <td>0</td>\n",
              "      <td>0</td>\n",
              "      <td>1</td>\n",
              "      <td>0</td>\n",
              "    </tr>\n",
              "    <tr>\n",
              "      <th>1</th>\n",
              "      <td>40.80020</td>\n",
              "      <td>-73.96045</td>\n",
              "      <td>1500</td>\n",
              "      <td>1</td>\n",
              "      <td>0</td>\n",
              "      <td>0.00</td>\n",
              "      <td>1</td>\n",
              "      <td>0</td>\n",
              "      <td>0</td>\n",
              "      <td>0</td>\n",
              "      <td>1</td>\n",
              "      <td>0</td>\n",
              "      <td>0</td>\n",
              "      <td>1</td>\n",
              "      <td>0</td>\n",
              "      <td>0</td>\n",
              "    </tr>\n",
              "    <tr>\n",
              "      <th>2</th>\n",
              "      <td>40.75558</td>\n",
              "      <td>-73.89316</td>\n",
              "      <td>200</td>\n",
              "      <td>2</td>\n",
              "      <td>4</td>\n",
              "      <td>4.00</td>\n",
              "      <td>1</td>\n",
              "      <td>365</td>\n",
              "      <td>0</td>\n",
              "      <td>0</td>\n",
              "      <td>0</td>\n",
              "      <td>1</td>\n",
              "      <td>0</td>\n",
              "      <td>1</td>\n",
              "      <td>0</td>\n",
              "      <td>0</td>\n",
              "    </tr>\n",
              "    <tr>\n",
              "      <th>3</th>\n",
              "      <td>40.60110</td>\n",
              "      <td>-74.07830</td>\n",
              "      <td>30</td>\n",
              "      <td>2</td>\n",
              "      <td>0</td>\n",
              "      <td>0.00</td>\n",
              "      <td>4</td>\n",
              "      <td>82</td>\n",
              "      <td>0</td>\n",
              "      <td>0</td>\n",
              "      <td>0</td>\n",
              "      <td>0</td>\n",
              "      <td>1</td>\n",
              "      <td>0</td>\n",
              "      <td>0</td>\n",
              "      <td>1</td>\n",
              "    </tr>\n",
              "    <tr>\n",
              "      <th>4</th>\n",
              "      <td>40.81022</td>\n",
              "      <td>-73.94266</td>\n",
              "      <td>115</td>\n",
              "      <td>1</td>\n",
              "      <td>16</td>\n",
              "      <td>0.27</td>\n",
              "      <td>1</td>\n",
              "      <td>365</td>\n",
              "      <td>0</td>\n",
              "      <td>0</td>\n",
              "      <td>1</td>\n",
              "      <td>0</td>\n",
              "      <td>0</td>\n",
              "      <td>0</td>\n",
              "      <td>0</td>\n",
              "      <td>1</td>\n",
              "    </tr>\n",
              "    <tr>\n",
              "      <th>...</th>\n",
              "      <td>...</td>\n",
              "      <td>...</td>\n",
              "      <td>...</td>\n",
              "      <td>...</td>\n",
              "      <td>...</td>\n",
              "      <td>...</td>\n",
              "      <td>...</td>\n",
              "      <td>...</td>\n",
              "      <td>...</td>\n",
              "      <td>...</td>\n",
              "      <td>...</td>\n",
              "      <td>...</td>\n",
              "      <td>...</td>\n",
              "      <td>...</td>\n",
              "      <td>...</td>\n",
              "      <td>...</td>\n",
              "    </tr>\n",
              "    <tr>\n",
              "      <th>34221</th>\n",
              "      <td>40.70602</td>\n",
              "      <td>-73.90485</td>\n",
              "      <td>80</td>\n",
              "      <td>5</td>\n",
              "      <td>2</td>\n",
              "      <td>0.21</td>\n",
              "      <td>1</td>\n",
              "      <td>0</td>\n",
              "      <td>0</td>\n",
              "      <td>0</td>\n",
              "      <td>0</td>\n",
              "      <td>1</td>\n",
              "      <td>0</td>\n",
              "      <td>1</td>\n",
              "      <td>0</td>\n",
              "      <td>0</td>\n",
              "    </tr>\n",
              "    <tr>\n",
              "      <th>34222</th>\n",
              "      <td>40.77697</td>\n",
              "      <td>-73.97698</td>\n",
              "      <td>137</td>\n",
              "      <td>1</td>\n",
              "      <td>163</td>\n",
              "      <td>3.55</td>\n",
              "      <td>1</td>\n",
              "      <td>32</td>\n",
              "      <td>0</td>\n",
              "      <td>0</td>\n",
              "      <td>1</td>\n",
              "      <td>0</td>\n",
              "      <td>0</td>\n",
              "      <td>0</td>\n",
              "      <td>1</td>\n",
              "      <td>0</td>\n",
              "    </tr>\n",
              "    <tr>\n",
              "      <th>34223</th>\n",
              "      <td>40.86912</td>\n",
              "      <td>-73.92183</td>\n",
              "      <td>195</td>\n",
              "      <td>2</td>\n",
              "      <td>6</td>\n",
              "      <td>0.53</td>\n",
              "      <td>1</td>\n",
              "      <td>0</td>\n",
              "      <td>0</td>\n",
              "      <td>0</td>\n",
              "      <td>1</td>\n",
              "      <td>0</td>\n",
              "      <td>0</td>\n",
              "      <td>1</td>\n",
              "      <td>0</td>\n",
              "      <td>0</td>\n",
              "    </tr>\n",
              "    <tr>\n",
              "      <th>34224</th>\n",
              "      <td>40.69709</td>\n",
              "      <td>-73.91435</td>\n",
              "      <td>80</td>\n",
              "      <td>3</td>\n",
              "      <td>0</td>\n",
              "      <td>0.00</td>\n",
              "      <td>1</td>\n",
              "      <td>0</td>\n",
              "      <td>0</td>\n",
              "      <td>1</td>\n",
              "      <td>0</td>\n",
              "      <td>0</td>\n",
              "      <td>0</td>\n",
              "      <td>0</td>\n",
              "      <td>1</td>\n",
              "      <td>0</td>\n",
              "    </tr>\n",
              "    <tr>\n",
              "      <th>34225</th>\n",
              "      <td>40.69076</td>\n",
              "      <td>-73.92886</td>\n",
              "      <td>69</td>\n",
              "      <td>4</td>\n",
              "      <td>5</td>\n",
              "      <td>0.13</td>\n",
              "      <td>1</td>\n",
              "      <td>0</td>\n",
              "      <td>0</td>\n",
              "      <td>1</td>\n",
              "      <td>0</td>\n",
              "      <td>0</td>\n",
              "      <td>0</td>\n",
              "      <td>1</td>\n",
              "      <td>0</td>\n",
              "      <td>0</td>\n",
              "    </tr>\n",
              "  </tbody>\n",
              "</table>\n",
              "<p>34202 rows × 16 columns</p>\n",
              "</div>"
            ],
            "text/plain": [
              "       latitude  longitude  price  ...  Entire home  Private room  Shared room\n",
              "0      40.72217  -73.99481    120  ...            0             1            0\n",
              "1      40.80020  -73.96045   1500  ...            1             0            0\n",
              "2      40.75558  -73.89316    200  ...            1             0            0\n",
              "3      40.60110  -74.07830     30  ...            0             0            1\n",
              "4      40.81022  -73.94266    115  ...            0             0            1\n",
              "...         ...        ...    ...  ...          ...           ...          ...\n",
              "34221  40.70602  -73.90485     80  ...            1             0            0\n",
              "34222  40.77697  -73.97698    137  ...            0             1            0\n",
              "34223  40.86912  -73.92183    195  ...            1             0            0\n",
              "34224  40.69709  -73.91435     80  ...            0             1            0\n",
              "34225  40.69076  -73.92886     69  ...            1             0            0\n",
              "\n",
              "[34202 rows x 16 columns]"
            ]
          },
          "metadata": {
            "tags": []
          },
          "execution_count": 62
        }
      ]
    },
    {
      "cell_type": "markdown",
      "metadata": {
        "id": "CIed5jXw0WXx"
      },
      "source": [
        "BUILDING MODEL"
      ]
    },
    {
      "cell_type": "code",
      "metadata": {
        "id": "iXU-u4rv0XWy"
      },
      "source": [
        "X = df.drop(['price'], axis = 1)   #independent\n",
        "y = df['price']    #dependent/target"
      ],
      "execution_count": 63,
      "outputs": []
    },
    {
      "cell_type": "code",
      "metadata": {
        "id": "c9z6BU3b0kwH"
      },
      "source": [
        "from sklearn.model_selection import train_test_split\n",
        "X_train, X_test, y_train, y_test = train_test_split(X,y,test_size = 0.3, random_state = 0)"
      ],
      "execution_count": 65,
      "outputs": []
    },
    {
      "cell_type": "code",
      "metadata": {
        "id": "AwtZKi1b0spc"
      },
      "source": [
        "#Model Building\n",
        "from sklearn.linear_model import LinearRegression\n",
        "linear = LinearRegression()\n",
        "\n",
        "#training model\n",
        "linear.fit(X_train, y_train)\n",
        "y_pred = linear.predict(X_test)"
      ],
      "execution_count": 66,
      "outputs": []
    },
    {
      "cell_type": "code",
      "metadata": {
        "colab": {
          "base_uri": "https://localhost:8080/"
        },
        "id": "YiY7IprG0vjH",
        "outputId": "f24be6ca-98b5-40b7-d89d-e381b3ef2558"
      },
      "source": [
        "y_pred"
      ],
      "execution_count": 67,
      "outputs": [
        {
          "output_type": "execute_result",
          "data": {
            "text/plain": [
              "array([112.34009791, 198.37441153,  61.37776761, ..., 189.51984195,\n",
              "       236.50390876, 198.17198004])"
            ]
          },
          "metadata": {
            "tags": []
          },
          "execution_count": 67
        }
      ]
    },
    {
      "cell_type": "code",
      "metadata": {
        "colab": {
          "base_uri": "https://localhost:8080/"
        },
        "id": "BMtaeQnx01E0",
        "outputId": "82d6e3f4-bc80-44e5-d332-1440107e21e2"
      },
      "source": [
        "from sklearn.metrics import mean_absolute_error\n",
        "mean_absolute_error(y_test,y_pred)"
      ],
      "execution_count": 68,
      "outputs": [
        {
          "output_type": "execute_result",
          "data": {
            "text/plain": [
              "70.4814992596514"
            ]
          },
          "metadata": {
            "tags": []
          },
          "execution_count": 68
        }
      ]
    }
  ]
}